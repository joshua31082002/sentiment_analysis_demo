{
 "cells": [
  {
   "cell_type": "code",
   "execution_count": 2,
   "metadata": {},
   "outputs": [
    {
     "name": "stderr",
     "output_type": "stream",
     "text": [
      "/home/joshua/.local/lib/python3.8/site-packages/pkg_resources/__init__.py:123: PkgResourcesDeprecationWarning: 0.1.36ubuntu1 is an invalid version and will not be supported in a future release\n",
      "  warnings.warn(\n",
      "/home/joshua/.local/lib/python3.8/site-packages/pkg_resources/__init__.py:123: PkgResourcesDeprecationWarning: 0.23ubuntu1 is an invalid version and will not be supported in a future release\n",
      "  warnings.warn(\n"
     ]
    }
   ],
   "source": [
    "import pandas as pd\n",
    "import vaex\n",
    "import numpy as np\n",
    "import matplotlib.pyplot as plt"
   ]
  },
  {
   "cell_type": "code",
   "execution_count": 3,
   "metadata": {},
   "outputs": [],
   "source": [
    "import re\n",
    "from sklearn.pipeline import Pipeline\n",
    "import spacy\n",
    "from nltk.stem import WordNetLemmatizer\n",
    "from nltk.corpus import stopwords\n",
    "word_lemmatizer = WordNetLemmatizer()\n",
    "nlp = spacy.load(\"en_core_web_sm\")"
   ]
  },
  {
   "cell_type": "code",
   "execution_count": 4,
   "metadata": {},
   "outputs": [],
   "source": [
    "from sklearn.base import TransformerMixin,BaseEstimator"
   ]
  },
  {
   "cell_type": "code",
   "execution_count": 5,
   "metadata": {},
   "outputs": [],
   "source": [
    "from sklearn.feature_extraction.text import TfidfVectorizer\n"
   ]
  },
  {
   "cell_type": "code",
   "execution_count": 6,
   "metadata": {},
   "outputs": [],
   "source": [
    "from sklearn.model_selection import train_test_split\n",
    "from sklearn.model_selection import GridSearchCV,StratifiedShuffleSplit,RandomizedSearchCV,StratifiedKFold\n",
    "from sklearn.svm import LinearSVC\n",
    "from sklearn.svm import SVC"
   ]
  },
  {
   "cell_type": "code",
   "execution_count": 7,
   "metadata": {},
   "outputs": [],
   "source": [
    "from sklearn.metrics import mean_squared_error"
   ]
  },
  {
   "cell_type": "code",
   "execution_count": 8,
   "metadata": {},
   "outputs": [],
   "source": [
    "sentiment140_df = pd.read_csv('training140.csv',encoding='latin-1',header=None)"
   ]
  },
  {
   "cell_type": "code",
   "execution_count": 9,
   "metadata": {},
   "outputs": [],
   "source": [
    "from vaex.dataset import encoding\n",
    "\n",
    "\n",
    "#s140_df = vaex.open('training140.csv',encoding='latin-1')\n",
    "s140_df = vaex.from_csv('training140.csv',names=['col1','col2','col3','col4','col5','col6'],encoding = 'latin-1')"
   ]
  },
  {
   "cell_type": "code",
   "execution_count": 10,
   "metadata": {},
   "outputs": [
    {
     "data": {
      "text/html": [
       "<div>\n",
       "<style scoped>\n",
       "    .dataframe tbody tr th:only-of-type {\n",
       "        vertical-align: middle;\n",
       "    }\n",
       "\n",
       "    .dataframe tbody tr th {\n",
       "        vertical-align: top;\n",
       "    }\n",
       "\n",
       "    .dataframe thead th {\n",
       "        text-align: right;\n",
       "    }\n",
       "</style>\n",
       "<table border=\"1\" class=\"dataframe\">\n",
       "  <thead>\n",
       "    <tr style=\"text-align: right;\">\n",
       "      <th></th>\n",
       "      <th>0</th>\n",
       "      <th>1</th>\n",
       "      <th>2</th>\n",
       "      <th>3</th>\n",
       "      <th>4</th>\n",
       "      <th>5</th>\n",
       "    </tr>\n",
       "  </thead>\n",
       "  <tbody>\n",
       "    <tr>\n",
       "      <th>0</th>\n",
       "      <td>0</td>\n",
       "      <td>1467810369</td>\n",
       "      <td>Mon Apr 06 22:19:45 PDT 2009</td>\n",
       "      <td>NO_QUERY</td>\n",
       "      <td>_TheSpecialOne_</td>\n",
       "      <td>@switchfoot http://twitpic.com/2y1zl - Awww, t...</td>\n",
       "    </tr>\n",
       "    <tr>\n",
       "      <th>1</th>\n",
       "      <td>0</td>\n",
       "      <td>1467810672</td>\n",
       "      <td>Mon Apr 06 22:19:49 PDT 2009</td>\n",
       "      <td>NO_QUERY</td>\n",
       "      <td>scotthamilton</td>\n",
       "      <td>is upset that he can't update his Facebook by ...</td>\n",
       "    </tr>\n",
       "    <tr>\n",
       "      <th>2</th>\n",
       "      <td>0</td>\n",
       "      <td>1467810917</td>\n",
       "      <td>Mon Apr 06 22:19:53 PDT 2009</td>\n",
       "      <td>NO_QUERY</td>\n",
       "      <td>mattycus</td>\n",
       "      <td>@Kenichan I dived many times for the ball. Man...</td>\n",
       "    </tr>\n",
       "    <tr>\n",
       "      <th>3</th>\n",
       "      <td>0</td>\n",
       "      <td>1467811184</td>\n",
       "      <td>Mon Apr 06 22:19:57 PDT 2009</td>\n",
       "      <td>NO_QUERY</td>\n",
       "      <td>ElleCTF</td>\n",
       "      <td>my whole body feels itchy and like its on fire</td>\n",
       "    </tr>\n",
       "    <tr>\n",
       "      <th>4</th>\n",
       "      <td>0</td>\n",
       "      <td>1467811193</td>\n",
       "      <td>Mon Apr 06 22:19:57 PDT 2009</td>\n",
       "      <td>NO_QUERY</td>\n",
       "      <td>Karoli</td>\n",
       "      <td>@nationwideclass no, it's not behaving at all....</td>\n",
       "    </tr>\n",
       "  </tbody>\n",
       "</table>\n",
       "</div>"
      ],
      "text/plain": [
       "   0           1                             2         3                4  \\\n",
       "0  0  1467810369  Mon Apr 06 22:19:45 PDT 2009  NO_QUERY  _TheSpecialOne_   \n",
       "1  0  1467810672  Mon Apr 06 22:19:49 PDT 2009  NO_QUERY    scotthamilton   \n",
       "2  0  1467810917  Mon Apr 06 22:19:53 PDT 2009  NO_QUERY         mattycus   \n",
       "3  0  1467811184  Mon Apr 06 22:19:57 PDT 2009  NO_QUERY          ElleCTF   \n",
       "4  0  1467811193  Mon Apr 06 22:19:57 PDT 2009  NO_QUERY           Karoli   \n",
       "\n",
       "                                                   5  \n",
       "0  @switchfoot http://twitpic.com/2y1zl - Awww, t...  \n",
       "1  is upset that he can't update his Facebook by ...  \n",
       "2  @Kenichan I dived many times for the ball. Man...  \n",
       "3    my whole body feels itchy and like its on fire   \n",
       "4  @nationwideclass no, it's not behaving at all....  "
      ]
     },
     "execution_count": 10,
     "metadata": {},
     "output_type": "execute_result"
    }
   ],
   "source": [
    "sentiment140_df.head()"
   ]
  },
  {
   "cell_type": "code",
   "execution_count": 11,
   "metadata": {},
   "outputs": [
    {
     "data": {
      "text/html": [
       "<table>\n",
       "<thead>\n",
       "<tr><th>#                            </th><th style=\"text-align: right;\">  col1</th><th style=\"text-align: right;\">      col2</th><th>col3                        </th><th>col4    </th><th>col5           </th><th>col6                                               </th></tr>\n",
       "</thead>\n",
       "<tbody>\n",
       "<tr><td><i style='opacity: 0.6'>0</i></td><td style=\"text-align: right;\">     0</td><td style=\"text-align: right;\">1467810369</td><td>Mon Apr 06 22:19:45 PDT 2009</td><td>NO_QUERY</td><td>_TheSpecialOne_</td><td>&#x27;@switchfoot http://twitpic.com/2y1zl - Awww, th...</td></tr>\n",
       "<tr><td><i style='opacity: 0.6'>1</i></td><td style=\"text-align: right;\">     0</td><td style=\"text-align: right;\">1467810672</td><td>Mon Apr 06 22:19:49 PDT 2009</td><td>NO_QUERY</td><td>scotthamilton  </td><td>&quot;is upset that he can&#x27;t update his Facebook by t...</td></tr>\n",
       "<tr><td><i style='opacity: 0.6'>2</i></td><td style=\"text-align: right;\">     0</td><td style=\"text-align: right;\">1467810917</td><td>Mon Apr 06 22:19:53 PDT 2009</td><td>NO_QUERY</td><td>mattycus       </td><td>&#x27;@Kenichan I dived many times for the ball. Mana...</td></tr>\n",
       "<tr><td><i style='opacity: 0.6'>3</i></td><td style=\"text-align: right;\">     0</td><td style=\"text-align: right;\">1467811184</td><td>Mon Apr 06 22:19:57 PDT 2009</td><td>NO_QUERY</td><td>ElleCTF        </td><td>my whole body feels itchy and like its on fire     </td></tr>\n",
       "<tr><td><i style='opacity: 0.6'>4</i></td><td style=\"text-align: right;\">     0</td><td style=\"text-align: right;\">1467811193</td><td>Mon Apr 06 22:19:57 PDT 2009</td><td>NO_QUERY</td><td>Karoli         </td><td>&quot;@nationwideclass no, it&#x27;s not behaving at all. ...</td></tr>\n",
       "<tr><td><i style='opacity: 0.6'>5</i></td><td style=\"text-align: right;\">     0</td><td style=\"text-align: right;\">1467811372</td><td>Mon Apr 06 22:20:00 PDT 2009</td><td>NO_QUERY</td><td>joy_wolf       </td><td>@Kwesidei not the whole crew                       </td></tr>\n",
       "<tr><td><i style='opacity: 0.6'>6</i></td><td style=\"text-align: right;\">     0</td><td style=\"text-align: right;\">1467811592</td><td>Mon Apr 06 22:20:03 PDT 2009</td><td>NO_QUERY</td><td>mybirch        </td><td>Need a hug                                         </td></tr>\n",
       "<tr><td><i style='opacity: 0.6'>7</i></td><td style=\"text-align: right;\">     0</td><td style=\"text-align: right;\">1467811594</td><td>Mon Apr 06 22:20:03 PDT 2009</td><td>NO_QUERY</td><td>coZZ           </td><td>&#x27;@LOLTrish hey  long time no see! Yes.. Rains a ...</td></tr>\n",
       "<tr><td><i style='opacity: 0.6'>8</i></td><td style=\"text-align: right;\">     0</td><td style=\"text-align: right;\">1467811795</td><td>Mon Apr 06 22:20:05 PDT 2009</td><td>NO_QUERY</td><td>2Hood4Hollywood</td><td>@Tatiana_K nope they didn&#x27;t have it                </td></tr>\n",
       "<tr><td><i style='opacity: 0.6'>9</i></td><td style=\"text-align: right;\">     0</td><td style=\"text-align: right;\">1467812025</td><td>Mon Apr 06 22:20:09 PDT 2009</td><td>NO_QUERY</td><td>mimismo        </td><td>@twittera que me muera ?                           </td></tr>\n",
       "</tbody>\n",
       "</table>"
      ],
      "text/plain": [
       "  #    col1        col2  col3                          col4      col5             col6\n",
       "  0       0  1467810369  Mon Apr 06 22:19:45 PDT 2009  NO_QUERY  _TheSpecialOne_  '@switchfoot http://twitpic.com/2y1zl - Awww, th...\n",
       "  1       0  1467810672  Mon Apr 06 22:19:49 PDT 2009  NO_QUERY  scotthamilton    \"is upset that he can't update his Facebook by t...\n",
       "  2       0  1467810917  Mon Apr 06 22:19:53 PDT 2009  NO_QUERY  mattycus         '@Kenichan I dived many times for the ball. Mana...\n",
       "  3       0  1467811184  Mon Apr 06 22:19:57 PDT 2009  NO_QUERY  ElleCTF          my whole body feels itchy and like its on fire\n",
       "  4       0  1467811193  Mon Apr 06 22:19:57 PDT 2009  NO_QUERY  Karoli           \"@nationwideclass no, it's not behaving at all. ...\n",
       "  5       0  1467811372  Mon Apr 06 22:20:00 PDT 2009  NO_QUERY  joy_wolf         @Kwesidei not the whole crew\n",
       "  6       0  1467811592  Mon Apr 06 22:20:03 PDT 2009  NO_QUERY  mybirch          Need a hug\n",
       "  7       0  1467811594  Mon Apr 06 22:20:03 PDT 2009  NO_QUERY  coZZ             '@LOLTrish hey  long time no see! Yes.. Rains a ...\n",
       "  8       0  1467811795  Mon Apr 06 22:20:05 PDT 2009  NO_QUERY  2Hood4Hollywood  @Tatiana_K nope they didn't have it\n",
       "  9       0  1467812025  Mon Apr 06 22:20:09 PDT 2009  NO_QUERY  mimismo          @twittera que me muera ?"
      ]
     },
     "execution_count": 11,
     "metadata": {},
     "output_type": "execute_result"
    }
   ],
   "source": [
    "s140_df.head()"
   ]
  },
  {
   "cell_type": "code",
   "execution_count": 12,
   "metadata": {},
   "outputs": [
    {
     "data": {
      "text/plain": [
       "(1600000, 6)"
      ]
     },
     "execution_count": 12,
     "metadata": {},
     "output_type": "execute_result"
    }
   ],
   "source": [
    "s140_df.shape"
   ]
  },
  {
   "cell_type": "code",
   "execution_count": 13,
   "metadata": {},
   "outputs": [
    {
     "data": {
      "text/html": [
       "<table>\n",
       "<thead>\n",
       "<tr><th>#                                    </th><th>col1  </th><th>col2      </th><th>col3                        </th><th>col4    </th><th>col5           </th><th>col6                                               </th></tr>\n",
       "</thead>\n",
       "<tbody>\n",
       "<tr><td><i style='opacity: 0.6'>0</i>        </td><td>0     </td><td>1467810369</td><td>Mon Apr 06 22:19:45 PDT 2009</td><td>NO_QUERY</td><td>_TheSpecialOne_</td><td>&#x27;@switchfoot http://twitpic.com/2y1zl - Awww, th...</td></tr>\n",
       "<tr><td><i style='opacity: 0.6'>1</i>        </td><td>0     </td><td>1467810672</td><td>Mon Apr 06 22:19:49 PDT 2009</td><td>NO_QUERY</td><td>scotthamilton  </td><td>&quot;is upset that he can&#x27;t update his Facebook by t...</td></tr>\n",
       "<tr><td><i style='opacity: 0.6'>2</i>        </td><td>0     </td><td>1467810917</td><td>Mon Apr 06 22:19:53 PDT 2009</td><td>NO_QUERY</td><td>mattycus       </td><td>&#x27;@Kenichan I dived many times for the ball. Mana...</td></tr>\n",
       "<tr><td><i style='opacity: 0.6'>3</i>        </td><td>0     </td><td>1467811184</td><td>Mon Apr 06 22:19:57 PDT 2009</td><td>NO_QUERY</td><td>ElleCTF        </td><td>my whole body feels itchy and like its on fire     </td></tr>\n",
       "<tr><td><i style='opacity: 0.6'>4</i>        </td><td>0     </td><td>1467811193</td><td>Mon Apr 06 22:19:57 PDT 2009</td><td>NO_QUERY</td><td>Karoli         </td><td>&quot;@nationwideclass no, it&#x27;s not behaving at all. ...</td></tr>\n",
       "<tr><td>...                                  </td><td>...   </td><td>...       </td><td>...                         </td><td>...     </td><td>...            </td><td>...                                                </td></tr>\n",
       "<tr><td><i style='opacity: 0.6'>1,599,995</i></td><td>4     </td><td>2193601966</td><td>Tue Jun 16 08:40:49 PDT 2009</td><td>NO_QUERY</td><td>AmandaMarie1028</td><td>&#x27;Just woke up. Having no school is the best feel...</td></tr>\n",
       "<tr><td><i style='opacity: 0.6'>1,599,996</i></td><td>4     </td><td>2193601969</td><td>Tue Jun 16 08:40:49 PDT 2009</td><td>NO_QUERY</td><td>TheWDBoards    </td><td>&#x27;TheWDB.com - Very cool to hear old Walt intervi...</td></tr>\n",
       "<tr><td><i style='opacity: 0.6'>1,599,997</i></td><td>4     </td><td>2193601991</td><td>Tue Jun 16 08:40:49 PDT 2009</td><td>NO_QUERY</td><td>bpbabe         </td><td>&#x27;Are you ready for your MoJo Makeover? Ask me fo...</td></tr>\n",
       "<tr><td><i style='opacity: 0.6'>1,599,998</i></td><td>4     </td><td>2193602064</td><td>Tue Jun 16 08:40:49 PDT 2009</td><td>NO_QUERY</td><td>tinydiamondz   </td><td>&#x27;Happy 38th Birthday to my boo of alll time!!! T...</td></tr>\n",
       "<tr><td><i style='opacity: 0.6'>1,599,999</i></td><td>4     </td><td>2193602129</td><td>Tue Jun 16 08:40:50 PDT 2009</td><td>NO_QUERY</td><td>RyanTrevMorris </td><td>&#x27;happy #charitytuesday @theNSPCC @SparksCharity ...</td></tr>\n",
       "</tbody>\n",
       "</table>"
      ],
      "text/plain": [
       "#          col1    col2        col3                          col4      col5             col6\n",
       "0          0       1467810369  Mon Apr 06 22:19:45 PDT 2009  NO_QUERY  _TheSpecialOne_  '@switchfoot http://twitpic.com/2y1zl - Awww, th...\n",
       "1          0       1467810672  Mon Apr 06 22:19:49 PDT 2009  NO_QUERY  scotthamilton    \"is upset that he can't update his Facebook by t...\n",
       "2          0       1467810917  Mon Apr 06 22:19:53 PDT 2009  NO_QUERY  mattycus         '@Kenichan I dived many times for the ball. Mana...\n",
       "3          0       1467811184  Mon Apr 06 22:19:57 PDT 2009  NO_QUERY  ElleCTF          my whole body feels itchy and like its on fire\n",
       "4          0       1467811193  Mon Apr 06 22:19:57 PDT 2009  NO_QUERY  Karoli           \"@nationwideclass no, it's not behaving at all. ...\n",
       "...        ...     ...         ...                           ...       ...              ...\n",
       "1,599,995  4       2193601966  Tue Jun 16 08:40:49 PDT 2009  NO_QUERY  AmandaMarie1028  'Just woke up. Having no school is the best feel...\n",
       "1,599,996  4       2193601969  Tue Jun 16 08:40:49 PDT 2009  NO_QUERY  TheWDBoards      'TheWDB.com - Very cool to hear old Walt intervi...\n",
       "1,599,997  4       2193601991  Tue Jun 16 08:40:49 PDT 2009  NO_QUERY  bpbabe           'Are you ready for your MoJo Makeover? Ask me fo...\n",
       "1,599,998  4       2193602064  Tue Jun 16 08:40:49 PDT 2009  NO_QUERY  tinydiamondz     'Happy 38th Birthday to my boo of alll time!!! T...\n",
       "1,599,999  4       2193602129  Tue Jun 16 08:40:50 PDT 2009  NO_QUERY  RyanTrevMorris   'happy #charitytuesday @theNSPCC @SparksCharity ..."
      ]
     },
     "execution_count": 13,
     "metadata": {},
     "output_type": "execute_result"
    }
   ],
   "source": [
    "s140_df"
   ]
  },
  {
   "cell_type": "code",
   "execution_count": 18,
   "metadata": {},
   "outputs": [
    {
     "data": {
      "text/html": [
       "<table>\n",
       "<thead>\n",
       "<tr><th>#                                    </th><th>col6                                               </th><th>col1  </th></tr>\n",
       "</thead>\n",
       "<tbody>\n",
       "<tr><td><i style='opacity: 0.6'>0</i>        </td><td>&#x27;@switchfoot http://twitpic.com/2y1zl - Awww, th...</td><td>0     </td></tr>\n",
       "<tr><td><i style='opacity: 0.6'>1</i>        </td><td>&quot;is upset that he can&#x27;t update his Facebook by t...</td><td>0     </td></tr>\n",
       "<tr><td><i style='opacity: 0.6'>2</i>        </td><td>&#x27;@Kenichan I dived many times for the ball. Mana...</td><td>0     </td></tr>\n",
       "<tr><td><i style='opacity: 0.6'>3</i>        </td><td>my whole body feels itchy and like its on fire     </td><td>0     </td></tr>\n",
       "<tr><td><i style='opacity: 0.6'>4</i>        </td><td>&quot;@nationwideclass no, it&#x27;s not behaving at all. ...</td><td>0     </td></tr>\n",
       "<tr><td>...                                  </td><td>...                                                </td><td>...   </td></tr>\n",
       "<tr><td><i style='opacity: 0.6'>1,599,995</i></td><td>&#x27;Just woke up. Having no school is the best feel...</td><td>4     </td></tr>\n",
       "<tr><td><i style='opacity: 0.6'>1,599,996</i></td><td>&#x27;TheWDB.com - Very cool to hear old Walt intervi...</td><td>4     </td></tr>\n",
       "<tr><td><i style='opacity: 0.6'>1,599,997</i></td><td>&#x27;Are you ready for your MoJo Makeover? Ask me fo...</td><td>4     </td></tr>\n",
       "<tr><td><i style='opacity: 0.6'>1,599,998</i></td><td>&#x27;Happy 38th Birthday to my boo of alll time!!! T...</td><td>4     </td></tr>\n",
       "<tr><td><i style='opacity: 0.6'>1,599,999</i></td><td>&#x27;happy #charitytuesday @theNSPCC @SparksCharity ...</td><td>4     </td></tr>\n",
       "</tbody>\n",
       "</table>"
      ],
      "text/plain": [
       "#          col6                                                 col1\n",
       "0          '@switchfoot http://twitpic.com/2y1zl - Awww, th...  0\n",
       "1          \"is upset that he can't update his Facebook by t...  0\n",
       "2          '@Kenichan I dived many times for the ball. Mana...  0\n",
       "3          my whole body feels itchy and like its on fire       0\n",
       "4          \"@nationwideclass no, it's not behaving at all. ...  0\n",
       "...        ...                                                  ...\n",
       "1,599,995  'Just woke up. Having no school is the best feel...  4\n",
       "1,599,996  'TheWDB.com - Very cool to hear old Walt intervi...  4\n",
       "1,599,997  'Are you ready for your MoJo Makeover? Ask me fo...  4\n",
       "1,599,998  'Happy 38th Birthday to my boo of alll time!!! T...  4\n",
       "1,599,999  'happy #charitytuesday @theNSPCC @SparksCharity ...  4"
      ]
     },
     "execution_count": 18,
     "metadata": {},
     "output_type": "execute_result"
    }
   ],
   "source": [
    "s140_df[['col6','col1']]"
   ]
  },
  {
   "cell_type": "code",
   "execution_count": 21,
   "metadata": {},
   "outputs": [
    {
     "ename": "TypeError",
     "evalue": "dropna() got an unexpected keyword argument 'axis'",
     "output_type": "error",
     "traceback": [
      "\u001b[0;31m---------------------------------------------------------------------------\u001b[0m",
      "\u001b[0;31mTypeError\u001b[0m                                 Traceback (most recent call last)",
      "\u001b[1;32mUntitled-1.ipynb Cell 14\u001b[0m in \u001b[0;36m<cell line: 3>\u001b[0;34m()\u001b[0m\n\u001b[1;32m      <a href='vscode-notebook-cell:Untitled-1.ipynb?jupyter-notebook#X40sdW50aXRsZWQ%3D?line=0'>1</a>\u001b[0m df1\u001b[39m=\u001b[39ms140_df[\u001b[39m'\u001b[39m\u001b[39mcol1\u001b[39m\u001b[39m'\u001b[39m]\n\u001b[1;32m      <a href='vscode-notebook-cell:Untitled-1.ipynb?jupyter-notebook#X40sdW50aXRsZWQ%3D?line=1'>2</a>\u001b[0m df1\u001b[39m.\u001b[39mcolumns \u001b[39m=\u001b[39m [\u001b[39m'\u001b[39m\u001b[39msentiment\u001b[39m\u001b[39m'\u001b[39m,\u001b[39m'\u001b[39m\u001b[39manalysis\u001b[39m\u001b[39m'\u001b[39m]\n\u001b[0;32m----> <a href='vscode-notebook-cell:Untitled-1.ipynb?jupyter-notebook#X40sdW50aXRsZWQ%3D?line=2'>3</a>\u001b[0m df1\u001b[39m.\u001b[39;49mdropna(axis\u001b[39m=\u001b[39;49m\u001b[39m0\u001b[39;49m,how\u001b[39m=\u001b[39;49m\u001b[39m'\u001b[39;49m\u001b[39many\u001b[39;49m\u001b[39m'\u001b[39;49m)\n",
      "\u001b[0;31mTypeError\u001b[0m: dropna() got an unexpected keyword argument 'axis'"
     ]
    }
   ],
   "source": [
    "df1=s140_df['col1']\n",
    "df1.columns = ['sentiment','analysis']\n",
    "df1.dropna(axis=0,how='any')"
   ]
  },
  {
   "cell_type": "code",
   "execution_count": 54,
   "metadata": {},
   "outputs": [
    {
     "data": {
      "text/plain": [
       "(1600000, 6)"
      ]
     },
     "execution_count": 54,
     "metadata": {},
     "output_type": "execute_result"
    }
   ],
   "source": [
    "sentiment140_df.shape"
   ]
  },
  {
   "cell_type": "code",
   "execution_count": 55,
   "metadata": {},
   "outputs": [
    {
     "name": "stdout",
     "output_type": "stream",
     "text": [
      "0    800000\n",
      "4    800000\n",
      "Name: 0, dtype: int64\n"
     ]
    }
   ],
   "source": [
    "print(sentiment140_df[0].value_counts())"
   ]
  },
  {
   "cell_type": "code",
   "execution_count": 56,
   "metadata": {},
   "outputs": [],
   "source": [
    "df = sentiment140_df[[5,0]]\n",
    "df.columns = ['sentiment','analysis']\n",
    "df = df.dropna(axis=0,how='any')"
   ]
  },
  {
   "cell_type": "code",
   "execution_count": 57,
   "metadata": {},
   "outputs": [],
   "source": [
    "X_train = df['sentiment'].to_frame()\n",
    "y_train = df['analysis'].to_frame()"
   ]
  },
  {
   "cell_type": "code",
   "execution_count": 58,
   "metadata": {},
   "outputs": [],
   "source": [
    "def preprocess(sentence):\n",
    "    sentence = re.sub('<[^>]*>','',sentence)\n",
    "    emoticons = re.findall(':-?[()]',sentence)\n",
    "    sentence = re.sub('[\\W]+|[\\d]+',' ',sentence.lower()) + ' '.join(emoticons)\n",
    "    return sentence\n",
    "\n",
    "def lemmatizer(sentence):\n",
    "    '''\n",
    "    lem_sent = []\n",
    "    for word in nlp(sentence):\n",
    "        lem_sent.append(word.lemma_)\n",
    "    return ''.join(lem_sent)\n",
    "    '''\n",
    "    return ''.join([word_lemmatizer.lemmatize(word) for word in sentence])\n",
    "\n",
    "def stop_words_remover(sentence):\n",
    "    sentence = ''.join(sentence)\n",
    "    stopwords = nlp.Defaults.stop_words\n",
    "    new_sent = ''\n",
    "    for word_token in sentence.split():\n",
    "        if word_token not in stopwords:\n",
    "            new_sent = new_sent + word_token + ' '\n",
    "    return new_sent\n",
    "    '''\n",
    "    stop_words = stopwords.words('english')\n",
    "    return ''.join([word for word in sentence if word not in stop_words])\n",
    "    '''"
   ]
  },
  {
   "cell_type": "code",
   "execution_count": 59,
   "metadata": {},
   "outputs": [],
   "source": [
    "class DataCleaner(BaseEstimator,TransformerMixin):\n",
    "    def __init__(self,X,y=None):\n",
    "        self.X = X\n",
    "        self.y = y\n",
    "        \n",
    "    \n",
    "    def fit(self,X,y=None):\n",
    "        return self\n",
    "\n",
    "    def transform(self,X,y=None):\n",
    "        X_ = X.copy()\n",
    "        for i in range(X_.shape[0]):\n",
    "            X_.iloc[i] = preprocess(X_.iloc[i])\n",
    "            X_.iloc[i] = stop_words_remover(X_.iloc[i])\n",
    "            X_.iloc[i] = lemmatizer(X_.iloc[i])\n",
    "        return X_"
   ]
  },
  {
   "cell_type": "code",
   "execution_count": 60,
   "metadata": {},
   "outputs": [],
   "source": [
    "tfidf = TfidfVectorizer(lowercase=False,\n",
    "                        #preprocessor=preprocess,\n",
    "                        #tokenizer=lemmatizer,\n",
    "                        #stop_words=nlp.Defaults.stop_words,\n",
    "                        use_idf=True,\n",
    "                        norm='l2',\n",
    "                        smooth_idf=True\n",
    "                        )"
   ]
  },
  {
   "cell_type": "code",
   "execution_count": 61,
   "metadata": {},
   "outputs": [],
   "source": [
    "clf1 = LinearSVC()\n",
    "clf2 = SVC()"
   ]
  },
  {
   "cell_type": "code",
   "execution_count": 62,
   "metadata": {},
   "outputs": [],
   "source": [
    "param_grid1 =   {'classifier__C':[0.01,0.1,1.0,10.0,100.0],\n",
    "                \n",
    "                }\n",
    "\n",
    "param_grid2 =   {'classifier__C':[0.01,0.1,1.0,10.0,100.0],\n",
    "                'classifier__gamma':[0.01,0.1,1.0,10.0,100.0],\n",
    "                'classifier__kernel':['rbf','sigmoid']\n",
    "                }"
   ]
  },
  {
   "cell_type": "code",
   "execution_count": 63,
   "metadata": {},
   "outputs": [],
   "source": [
    "cv = StratifiedKFold(n_splits=10,shuffle=True,random_state=39)"
   ]
  },
  {
   "cell_type": "code",
   "execution_count": 64,
   "metadata": {},
   "outputs": [],
   "source": [
    "pipe = Pipeline([\n",
    "                ('data_cleaning',DataCleaner(X_train)),\n",
    "                ('vectorizer',tfidf),\n",
    "                ('classifier',clf1)\n",
    "        ])"
   ]
  },
  {
   "cell_type": "code",
   "execution_count": 65,
   "metadata": {},
   "outputs": [],
   "source": [
    "random_search_svc = RandomizedSearchCV(estimator = pipe, \n",
    "                                        param_distributions=param_grid1,\n",
    "                                        cv=10,\n",
    "                                        refit= 'acc',\n",
    "                                        scoring={'acc':'accuracy',\n",
    "                                                 'mse':'neg_mean_squared_error'\n",
    "                                                },\n",
    "                                        n_jobs=6,\n",
    "                                        return_train_score=True \n",
    "                                )"
   ]
  },
  {
   "cell_type": "code",
   "execution_count": 66,
   "metadata": {},
   "outputs": [
    {
     "data": {
      "text/plain": [
       "False    1600000\n",
       "Name: analysis, dtype: int64"
      ]
     },
     "execution_count": 66,
     "metadata": {},
     "output_type": "execute_result"
    }
   ],
   "source": [
    "y_train['analysis'].isnull().value_counts()"
   ]
  },
  {
   "cell_type": "code",
   "execution_count": 67,
   "metadata": {},
   "outputs": [
    {
     "name": "stderr",
     "output_type": "stream",
     "text": [
      "/home/joshua/.local/lib/python3.8/site-packages/sklearn/model_selection/_search.py:306: UserWarning: The total space of parameters 5 is smaller than n_iter=10. Running 5 iterations. For exhaustive searches, use GridSearchCV.\n",
      "  warnings.warn(\n"
     ]
    },
    {
     "ename": "",
     "evalue": "",
     "output_type": "error",
     "traceback": [
      "\u001b[1;31mCanceled future for execute_request message before replies were done"
     ]
    },
    {
     "ename": "",
     "evalue": "",
     "output_type": "error",
     "traceback": [
      "The Kernel crashed while executing code in the the current cell or a previous cell. Please review the code in the cell(s) to identify a possible cause of the failure. Click <a href='https://aka.ms/vscodeJupyterKernelCrash'>here</a> for more info. View Jupyter <a href='command:jupyter.viewOutput'>log</a> for further details."
     ]
    }
   ],
   "source": [
    "random_search_svc.fit(X_train,y_train)"
   ]
  },
  {
   "cell_type": "code",
   "execution_count": null,
   "metadata": {},
   "outputs": [],
   "source": []
  }
 ],
 "metadata": {
  "kernelspec": {
   "display_name": "Python 3.8.10 64-bit",
   "language": "python",
   "name": "python3"
  },
  "language_info": {
   "codemirror_mode": {
    "name": "ipython",
    "version": 3
   },
   "file_extension": ".py",
   "mimetype": "text/x-python",
   "name": "python",
   "nbconvert_exporter": "python",
   "pygments_lexer": "ipython3",
   "version": "3.8.10"
  },
  "orig_nbformat": 4,
  "vscode": {
   "interpreter": {
    "hash": "916dbcbb3f70747c44a77c7bcd40155683ae19c65e1c03b4aa3499c5328201f1"
   }
  }
 },
 "nbformat": 4,
 "nbformat_minor": 2
}
