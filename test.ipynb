{
 "cells": [
  {
   "cell_type": "code",
   "execution_count": 1,
   "metadata": {},
   "outputs": [],
   "source": [
    "import pandas as pd\n",
    "import numpy as np\n",
    "import matplotlib.pyplot as plt"
   ]
  },
  {
   "cell_type": "markdown",
   "metadata": {},
   "source": [
    "**CREATING INDIVIDUAL DATAFRAMES**"
   ]
  },
  {
   "cell_type": "code",
   "execution_count": 2,
   "metadata": {},
   "outputs": [],
   "source": [
    "amazon_df = pd.read_csv('amazon_reviews.csv')\n",
    "twitter_df = pd.read_csv('Tweets.csv')\n",
    "yelp_df = pd.read_csv('yelp.csv')"
   ]
  },
  {
   "cell_type": "code",
   "execution_count": 3,
   "metadata": {},
   "outputs": [
    {
     "name": "stdout",
     "output_type": "stream",
     "text": [
      "--------------------------AMAZON---------------------\n",
      "Index(['Unnamed: 0', 'reviewerName', 'overall', 'reviewText', 'reviewTime',\n",
      "       'day_diff', 'helpful_yes', 'helpful_no', 'total_vote',\n",
      "       'score_pos_neg_diff', 'score_average_rating', 'wilson_lower_bound'],\n",
      "      dtype='object')\n",
      "\n",
      "--------------------------TWITTER---------------------\n",
      "Index(['textID', 'text', 'selected_text', 'sentiment'], dtype='object')\n",
      "\n",
      "--------------------------YELP---------------------\n",
      "Index(['business_id', 'date', 'review_id', 'stars', 'text', 'type', 'user_id',\n",
      "       'cool', 'useful', 'funny'],\n",
      "      dtype='object')\n"
     ]
    }
   ],
   "source": [
    "print(\"--------------------------AMAZON---------------------\")\n",
    "print(amazon_df.columns)\n",
    "print(\"\\n--------------------------TWITTER---------------------\")\n",
    "print(twitter_df.columns)\n",
    "print(\"\\n--------------------------YELP---------------------\")\n",
    "print(yelp_df.columns)"
   ]
  },
  {
   "cell_type": "markdown",
   "metadata": {},
   "source": [
    "**PERFORMING DATA LOADING BY CHOOSING ONLY REQUIRED COLUMNS ON DATAFRAME**"
   ]
  },
  {
   "cell_type": "code",
   "execution_count": 4,
   "metadata": {},
   "outputs": [],
   "source": [
    "def data_loading(df,features,label):\n",
    "    df_reduced = df[features + label]      # + ----> concatanation \n",
    "    df_reduced = df_reduced.dropna(axis=0,how='any') #removing rows having nan\n",
    "    df_reduced.columns = ['review','analysis']\n",
    "    return df_reduced"
   ]
  },
  {
   "cell_type": "markdown",
   "metadata": {},
   "source": [
    "EXTRACTING REQUIRED COLUMNS FOR AMAZON REVIEWS"
   ]
  },
  {
   "cell_type": "code",
   "execution_count": 5,
   "metadata": {},
   "outputs": [
    {
     "data": {
      "text/html": [
       "<div>\n",
       "<style scoped>\n",
       "    .dataframe tbody tr th:only-of-type {\n",
       "        vertical-align: middle;\n",
       "    }\n",
       "\n",
       "    .dataframe tbody tr th {\n",
       "        vertical-align: top;\n",
       "    }\n",
       "\n",
       "    .dataframe thead th {\n",
       "        text-align: right;\n",
       "    }\n",
       "</style>\n",
       "<table border=\"1\" class=\"dataframe\">\n",
       "  <thead>\n",
       "    <tr style=\"text-align: right;\">\n",
       "      <th></th>\n",
       "      <th>review</th>\n",
       "      <th>analysis</th>\n",
       "    </tr>\n",
       "  </thead>\n",
       "  <tbody>\n",
       "    <tr>\n",
       "      <th>0</th>\n",
       "      <td>No issues.</td>\n",
       "      <td>4.0</td>\n",
       "    </tr>\n",
       "    <tr>\n",
       "      <th>1</th>\n",
       "      <td>Purchased this for my device, it worked as adv...</td>\n",
       "      <td>5.0</td>\n",
       "    </tr>\n",
       "    <tr>\n",
       "      <th>2</th>\n",
       "      <td>it works as expected. I should have sprung for...</td>\n",
       "      <td>4.0</td>\n",
       "    </tr>\n",
       "    <tr>\n",
       "      <th>3</th>\n",
       "      <td>This think has worked out great.Had a diff. br...</td>\n",
       "      <td>5.0</td>\n",
       "    </tr>\n",
       "    <tr>\n",
       "      <th>4</th>\n",
       "      <td>Bought it with Retail Packaging, arrived legit...</td>\n",
       "      <td>5.0</td>\n",
       "    </tr>\n",
       "  </tbody>\n",
       "</table>\n",
       "</div>"
      ],
      "text/plain": [
       "                                              review  analysis\n",
       "0                                         No issues.       4.0\n",
       "1  Purchased this for my device, it worked as adv...       5.0\n",
       "2  it works as expected. I should have sprung for...       4.0\n",
       "3  This think has worked out great.Had a diff. br...       5.0\n",
       "4  Bought it with Retail Packaging, arrived legit...       5.0"
      ]
     },
     "execution_count": 5,
     "metadata": {},
     "output_type": "execute_result"
    }
   ],
   "source": [
    "features = ['reviewText']\n",
    "label = ['overall']\n",
    "amazon_df_reduced = data_loading(amazon_df,features,label)\n",
    "amazon_df_reduced.head()"
   ]
  },
  {
   "cell_type": "markdown",
   "metadata": {},
   "source": [
    "EXTRACTING REQUIRED COLUMNS FOR TWITTER REVIEWS"
   ]
  },
  {
   "cell_type": "code",
   "execution_count": 6,
   "metadata": {},
   "outputs": [
    {
     "data": {
      "text/html": [
       "<div>\n",
       "<style scoped>\n",
       "    .dataframe tbody tr th:only-of-type {\n",
       "        vertical-align: middle;\n",
       "    }\n",
       "\n",
       "    .dataframe tbody tr th {\n",
       "        vertical-align: top;\n",
       "    }\n",
       "\n",
       "    .dataframe thead th {\n",
       "        text-align: right;\n",
       "    }\n",
       "</style>\n",
       "<table border=\"1\" class=\"dataframe\">\n",
       "  <thead>\n",
       "    <tr style=\"text-align: right;\">\n",
       "      <th></th>\n",
       "      <th>review</th>\n",
       "      <th>analysis</th>\n",
       "    </tr>\n",
       "  </thead>\n",
       "  <tbody>\n",
       "    <tr>\n",
       "      <th>0</th>\n",
       "      <td>I`d have responded, if I were going</td>\n",
       "      <td>neutral</td>\n",
       "    </tr>\n",
       "    <tr>\n",
       "      <th>1</th>\n",
       "      <td>Sooo SAD I will miss you here in San Diego!!!</td>\n",
       "      <td>negative</td>\n",
       "    </tr>\n",
       "    <tr>\n",
       "      <th>2</th>\n",
       "      <td>my boss is bullying me...</td>\n",
       "      <td>negative</td>\n",
       "    </tr>\n",
       "    <tr>\n",
       "      <th>3</th>\n",
       "      <td>what interview! leave me alone</td>\n",
       "      <td>negative</td>\n",
       "    </tr>\n",
       "    <tr>\n",
       "      <th>4</th>\n",
       "      <td>Sons of ****, why couldn`t they put them on t...</td>\n",
       "      <td>negative</td>\n",
       "    </tr>\n",
       "  </tbody>\n",
       "</table>\n",
       "</div>"
      ],
      "text/plain": [
       "                                              review  analysis\n",
       "0                I`d have responded, if I were going   neutral\n",
       "1      Sooo SAD I will miss you here in San Diego!!!  negative\n",
       "2                          my boss is bullying me...  negative\n",
       "3                     what interview! leave me alone  negative\n",
       "4   Sons of ****, why couldn`t they put them on t...  negative"
      ]
     },
     "execution_count": 6,
     "metadata": {},
     "output_type": "execute_result"
    }
   ],
   "source": [
    "features = ['text']\n",
    "label = ['sentiment']\n",
    "twitter_df_reduced = data_loading(twitter_df,features,label)\n",
    "twitter_df_reduced.head()"
   ]
  },
  {
   "cell_type": "markdown",
   "metadata": {},
   "source": [
    "EXTRACTING REQUIRED COLUMNS FOR YELP REVIEWS"
   ]
  },
  {
   "cell_type": "code",
   "execution_count": 7,
   "metadata": {},
   "outputs": [],
   "source": [
    "features = ['text']\n",
    "label = ['stars']\n",
    "yelp_df_reduced = data_loading(yelp_df,features,label)"
   ]
  },
  {
   "cell_type": "markdown",
   "metadata": {},
   "source": [
    "**DEALING WITH LABELS**"
   ]
  },
  {
   "cell_type": "code",
   "execution_count": 8,
   "metadata": {},
   "outputs": [
    {
     "name": "stdout",
     "output_type": "stream",
     "text": [
      "[4. 5. 3. 1. 2.]\n",
      "['neutral' 'negative' 'positive']\n",
      "[5 4 2 3 1]\n"
     ]
    }
   ],
   "source": [
    "print(amazon_df_reduced['analysis'].unique())\n",
    "print(twitter_df_reduced['analysis'].unique())\n",
    "print(yelp_df_reduced['analysis'].unique())"
   ]
  },
  {
   "cell_type": "markdown",
   "metadata": {},
   "source": [
    "MAPPING LABELS OF AMAZON REVIEW TO ['NEGATIVE','NEUTRAL','POSITIVE]"
   ]
  },
  {
   "cell_type": "code",
   "execution_count": 9,
   "metadata": {},
   "outputs": [],
   "source": [
    "for x in amazon_df_reduced['analysis'].unique():\n",
    "    if int(x)<=3:\n",
    "        #amazon_df_reduced.loc[amazon_df_reduced['analysis']==x,'analysis'] = 'negative'\n",
    "        amazon_df_reduced.loc[amazon_df_reduced['analysis']==x,'analysis'] = 0\n",
    "    #elif int(x)==3:\n",
    "    #    amazon_df_reduced.loc[amazon_df_reduced['analysis']==x,'analysis'] = 'neutral'\n",
    "    elif int(x)>=4:\n",
    "        #amazon_df_reduced.loc[amazon_df_reduced['analysis']==x,'analysis'] = 'positive'\n",
    "        amazon_df_reduced.loc[amazon_df_reduced['analysis']==x,'analysis'] = 1\n"
   ]
  },
  {
   "cell_type": "markdown",
   "metadata": {},
   "source": [
    "MAPPING LABELS OF TWITTER REVIEW TO ['NEGATIVE','NEUTRAL','POSITIVE]"
   ]
  },
  {
   "cell_type": "code",
   "execution_count": 10,
   "metadata": {},
   "outputs": [],
   "source": [
    "for x in twitter_df_reduced['analysis'].unique():\n",
    "    if x == 'negative':\n",
    "        #twitter_df_reduced.loc[twitter_df_reduced['analysis']==x,'analysis'] = 'negative'\n",
    "        twitter_df_reduced.loc[twitter_df_reduced['analysis']==x,'analysis'] = 0\n",
    "    elif x == 'neutral':\n",
    "        #twitter_df_reduced.loc[twitter_df_reduced['analysis']==x,'analysis'] = 'neutral'\n",
    "        twitter_df_reduced.loc[twitter_df_reduced['analysis']==x,'analysis'] = 0\n",
    "    elif x == 'positive':\n",
    "        #twitter_df_reduced.loc[twitter_df_reduced['analysis']==x,'analysis'] = 'positive'\n",
    "        twitter_df_reduced.loc[twitter_df_reduced['analysis']==x,'analysis'] = 1"
   ]
  },
  {
   "cell_type": "markdown",
   "metadata": {},
   "source": [
    "MAPPING LABELS OF AMAZON YELP TO ['NEGATIVE','NEUTRAL','POSITIVE]"
   ]
  },
  {
   "cell_type": "code",
   "execution_count": 11,
   "metadata": {},
   "outputs": [],
   "source": [
    "for x in yelp_df_reduced['analysis'].unique():\n",
    "    if int(x)<=3:\n",
    "        #yelp_df_reduced.loc[yelp_df_reduced['analysis']==x,'analysis'] = 'negative'\n",
    "        yelp_df_reduced.loc[yelp_df_reduced['analysis']==x,'analysis'] = 0\n",
    "    #elif int(x)==3:\n",
    "    #    yelp_df_reduced.loc[yelp_df_reduced['analysis']==x,'analysis'] = 'neutral'\n",
    "    elif int(x)>=4:\n",
    "        #yelp_df_reduced.loc[yelp_df_reduced['analysis']==x,'analysis'] = 'positive'\n",
    "        yelp_df_reduced.loc[yelp_df_reduced['analysis']==x,'analysis'] = 1"
   ]
  },
  {
   "cell_type": "markdown",
   "metadata": {},
   "source": [
    "**AGGREGATING DATAFRAMES**"
   ]
  },
  {
   "cell_type": "code",
   "execution_count": 12,
   "metadata": {},
   "outputs": [
    {
     "name": "stdout",
     "output_type": "stream",
     "text": [
      "Number of classes : 2\n",
      "\n",
      "True\n",
      "\n",
      "review      0\n",
      "analysis    0\n",
      "dtype: int64\n"
     ]
    }
   ],
   "source": [
    "df = pd.concat([amazon_df_reduced,twitter_df_reduced,yelp_df_reduced],axis=0,names=['review','analysis'])\n",
    "\n",
    "print(\"Number of classes :\",len(df['analysis'].unique()))\n",
    "print()\n",
    "print(df.shape[0] == amazon_df_reduced.shape[0]+twitter_df_reduced.shape[0]+yelp_df_reduced.shape[0])\n",
    "print()\n",
    "print(df.isna().sum())"
   ]
  },
  {
   "cell_type": "code",
   "execution_count": 13,
   "metadata": {},
   "outputs": [
    {
     "data": {
      "text/plain": [
       "\"X = df['review'].to_frame()\\ny = df['analysis'].to_frame()\\nX.shape[0] == y.shape[0]\""
      ]
     },
     "execution_count": 13,
     "metadata": {},
     "output_type": "execute_result"
    }
   ],
   "source": [
    "'''X = df['review'].to_frame()\n",
    "y = df['analysis'].to_frame()\n",
    "X.shape[0] == y.shape[0]'''"
   ]
  },
  {
   "cell_type": "code",
   "execution_count": 14,
   "metadata": {},
   "outputs": [
    {
     "data": {
      "text/plain": [
       "\"X = df['review'].to_frame()\\ny = df['analysis'].to_frame()\\nX.shape[0] == y.shape[0]\""
      ]
     },
     "execution_count": 14,
     "metadata": {},
     "output_type": "execute_result"
    }
   ],
   "source": [
    "'''X = df['review'].to_frame()\n",
    "y = df['analysis'].to_frame()\n",
    "X.shape[0] == y.shape[0]'''"
   ]
  },
  {
   "cell_type": "code",
   "execution_count": 15,
   "metadata": {},
   "outputs": [],
   "source": [
    "import re\n",
    "from sklearn.pipeline import Pipeline\n",
    "import spacy\n",
    "from nltk.stem import WordNetLemmatizer\n",
    "from nltk.corpus import stopwords\n",
    "word_lemmatizer = WordNetLemmatizer()\n",
    "nlp = spacy.load(\"en_core_web_sm\")"
   ]
  },
  {
   "cell_type": "code",
   "execution_count": 16,
   "metadata": {},
   "outputs": [],
   "source": [
    "def preprocess(sentence):\n",
    "    sentence = re.sub('<[^>]*>','',sentence)\n",
    "    emoticons = re.findall(':-?[()]',sentence)\n",
    "    sentence = re.sub('[\\W]+|[\\d]+',' ',sentence.lower()) + ' '.join(emoticons)\n",
    "    return sentence"
   ]
  },
  {
   "cell_type": "code",
   "execution_count": 17,
   "metadata": {},
   "outputs": [],
   "source": [
    "def lemmatizer(sentence):\n",
    "    '''\n",
    "    lem_sent = []\n",
    "    for word in nlp(sentence):\n",
    "        lem_sent.append(word.lemma_)\n",
    "    return ''.join(lem_sent)\n",
    "    '''\n",
    "    return ''.join([word_lemmatizer.lemmatize(word) for word in sentence])"
   ]
  },
  {
   "cell_type": "code",
   "execution_count": 18,
   "metadata": {},
   "outputs": [],
   "source": [
    "def stop_words_remover(sentence):\n",
    "    sentence = ''.join(sentence)\n",
    "    stopwords = nlp.Defaults.stop_words\n",
    "    new_sent = ''\n",
    "    for word_token in sentence.split():\n",
    "        if word_token not in stopwords:\n",
    "            new_sent = new_sent + word_token + ' '\n",
    "    return new_sent\n",
    "    '''\n",
    "    stop_words = stopwords.words('english')\n",
    "    return ''.join([word for word in sentence if word not in stop_words])\n",
    "    '''"
   ]
  },
  {
   "cell_type": "code",
   "execution_count": 19,
   "metadata": {},
   "outputs": [
    {
     "data": {
      "text/plain": [
       "(0,)"
      ]
     },
     "execution_count": 19,
     "metadata": {},
     "output_type": "execute_result"
    }
   ],
   "source": [
    "X_ = np.array([])\n",
    "np.append(X_,[['asc']])\n",
    "np.append(X_,[['cdsf']])\n",
    "X_.shape"
   ]
  },
  {
   "cell_type": "code",
   "execution_count": 20,
   "metadata": {},
   "outputs": [],
   "source": [
    "from sklearn.base import TransformerMixin,BaseEstimator\n",
    "class DataCleaner(BaseEstimator,TransformerMixin):\n",
    "    def __init__(self,X,y=None):\n",
    "        self.X = X\n",
    "        self.y = y\n",
    "        \n",
    "    \n",
    "    def fit(self,X,y=None):\n",
    "        return self\n",
    "\n",
    "    def transform(self,X,y=None):\n",
    "        X_ = X.copy()\n",
    "        for i in range(X_.shape[0]):\n",
    "            X_.iloc[i] = preprocess(X_.iloc[i])\n",
    "            X_.iloc[i] = stop_words_remover(X_.iloc[i])\n",
    "            X_.iloc[i] = lemmatizer(X_.iloc[i])\n",
    "        return X_"
   ]
  },
  {
   "cell_type": "code",
   "execution_count": 21,
   "metadata": {},
   "outputs": [
    {
     "data": {
      "text/plain": [
       "\"\\ndf['review'] = df['review'].apply(preprocess)\\ndf['review'] = df['review'].apply(stop_words_remover)\\ndf['review'] = df['review'].apply(lemmatizer)\\n\""
      ]
     },
     "execution_count": 21,
     "metadata": {},
     "output_type": "execute_result"
    }
   ],
   "source": [
    "'''\n",
    "df['review'] = df['review'].apply(preprocess)\n",
    "df['review'] = df['review'].apply(stop_words_remover)\n",
    "df['review'] = df['review'].apply(lemmatizer)\n",
    "'''"
   ]
  },
  {
   "cell_type": "code",
   "execution_count": 22,
   "metadata": {},
   "outputs": [],
   "source": [
    "from sklearn.feature_extraction.text import TfidfVectorizer\n",
    "tfidf = TfidfVectorizer(lowercase=False,\n",
    "                        #preprocessor=preprocess,\n",
    "                        #tokenizer=lemmatizer,\n",
    "                        #stop_words=nlp.Defaults.stop_words,\n",
    "                        use_idf=True,\n",
    "                        norm='l2',\n",
    "                        smooth_idf=True\n",
    "                        )\n",
    "                        \n",
    "                        "
   ]
  },
  {
   "cell_type": "code",
   "execution_count": 23,
   "metadata": {},
   "outputs": [
    {
     "name": "stdout",
     "output_type": "stream",
     "text": [
      "[0 1]\n"
     ]
    }
   ],
   "source": [
    "X = df['review']\n",
    "y = df['analysis']\n",
    "y = y.astype('int')\n",
    "print(y.unique())"
   ]
  },
  {
   "cell_type": "code",
   "execution_count": 24,
   "metadata": {},
   "outputs": [],
   "source": [
    "from sklearn.model_selection import train_test_split\n",
    "from sklearn.model_selection import GridSearchCV,StratifiedShuffleSplit,RandomizedSearchCV,StratifiedKFold\n",
    "from sklearn.svm import LinearSVC\n",
    "\n",
    "from sklearn.svm import SVC\n",
    "X_train, X_test, y_train, y_test = train_test_split(X,y,shuffle=True,test_size=0.2,random_state=39)\n",
    "clf1 = LinearSVC(max_iter=10000)\n",
    "clf2 = SVC()"
   ]
  },
  {
   "cell_type": "code",
   "execution_count": 25,
   "metadata": {},
   "outputs": [],
   "source": [
    "param_grid1 =    {'classifier__C':[0.01,0.1,1.0,10.0,100.0],\n",
    "                \n",
    "                }\n",
    "cv = StratifiedKFold(n_splits=10,shuffle=True,random_state=39)"
   ]
  },
  {
   "cell_type": "code",
   "execution_count": 26,
   "metadata": {},
   "outputs": [],
   "source": [
    "param_grid2 =    {'classifier__C':[0.01,0.1,1.0,10.0,100.0],\n",
    "                'classifier__gamma':[0.01,0.1,1.0,10.0,100.0],\n",
    "                'classifier__kernel':['rbf','sigmoid']\n",
    "                }"
   ]
  },
  {
   "cell_type": "code",
   "execution_count": 27,
   "metadata": {},
   "outputs": [],
   "source": [
    "pipe1 = Pipeline([\n",
    "                ('data_cleaning',DataCleaner(X)),\n",
    "                ('vectorizer',tfidf),\n",
    "                ('classifier',clf1)\n",
    "        ])"
   ]
  },
  {
   "cell_type": "code",
   "execution_count": 28,
   "metadata": {},
   "outputs": [],
   "source": [
    "pipe2 = Pipeline([\n",
    "                ('data_cleaning',DataCleaner(X)),\n",
    "                ('vectorizer',tfidf),\n",
    "                ('classifier',clf2)\n",
    "        ])"
   ]
  },
  {
   "cell_type": "code",
   "execution_count": 29,
   "metadata": {},
   "outputs": [
    {
     "data": {
      "text/plain": [
       "'\\nX_train_tr = pipe1.fit_transform(X_train)\\nX_test_tr = pipe1.fit_transform(X_test)\\n'"
      ]
     },
     "execution_count": 29,
     "metadata": {},
     "output_type": "execute_result"
    }
   ],
   "source": [
    "'''\n",
    "X_train_tr = pipe1.fit_transform(X_train)\n",
    "X_test_tr = pipe1.fit_transform(X_test)\n",
    "'''"
   ]
  },
  {
   "cell_type": "code",
   "execution_count": 30,
   "metadata": {},
   "outputs": [],
   "source": [
    "from sklearn.metrics import mean_squared_error\n"
   ]
  },
  {
   "cell_type": "code",
   "execution_count": 31,
   "metadata": {},
   "outputs": [],
   "source": [
    "random_search_svc = RandomizedSearchCV(estimator = pipe1, \n",
    "                                        param_distributions=param_grid1,\n",
    "                                        cv=10,\n",
    "                                        refit= 'acc',\n",
    "                                        scoring={'acc':'accuracy',\n",
    "                                                 'mse':'neg_mean_squared_error'\n",
    "                                                },\n",
    "                                        n_jobs=6,\n",
    "                                        n_iter = 5,\n",
    "                                        return_train_score=True \n",
    "                                )"
   ]
  },
  {
   "cell_type": "code",
   "execution_count": 32,
   "metadata": {},
   "outputs": [],
   "source": [
    "random_search_svc.fit(X_train,y_train)"
   ]
  },
  {
   "cell_type": "code",
   "execution_count": null,
   "metadata": {},
   "outputs": [
    {
     "data": {
      "text/plain": [
       "array([0])"
      ]
     },
     "execution_count": 76,
     "metadata": {},
     "output_type": "execute_result"
    }
   ],
   "source": [
    "test_val =  ['playguard']\n",
    "        \n",
    "test_val = pd.Series(test_val)\n",
    "#test = pipe1.fit_transform(test_val)\n",
    "#test = test.reshape(X_train_tr.shape)\n",
    "random_search_svc.predict(test_val)"
   ]
  },
  {
   "cell_type": "code",
   "execution_count": null,
   "metadata": {},
   "outputs": [
    {
     "data": {
      "text/plain": [
       "0.030340557275541795"
      ]
     },
     "execution_count": 38,
     "metadata": {},
     "output_type": "execute_result"
    }
   ],
   "source": [
    "y_train_predictions =random_search_svc.predict(X_train)\n",
    "mean_squared_error(y_train,y_train_predictions)"
   ]
  },
  {
   "cell_type": "code",
   "execution_count": null,
   "metadata": {},
   "outputs": [
    {
     "data": {
      "text/plain": [
       "0.11782049770020049"
      ]
     },
     "execution_count": 39,
     "metadata": {},
     "output_type": "execute_result"
    }
   ],
   "source": [
    "y_test_predictions = random_search_svc.predict(X_test)\n",
    "mean_squared_error(y_test,y_test_predictions)"
   ]
  },
  {
   "cell_type": "code",
   "execution_count": null,
   "metadata": {},
   "outputs": [
    {
     "data": {
      "text/plain": [
       "{'mean_fit_time': array([42.05956972, 43.07716436, 42.93346453, 46.78940587, 78.67325284]),\n",
       " 'std_fit_time': array([5.89621202, 5.36248995, 5.0888268 , 4.2823516 , 6.71225761]),\n",
       " 'mean_score_time': array([4.69915316, 4.82328277, 4.95211034, 4.44480879, 4.56264727]),\n",
       " 'std_score_time': array([0.79950559, 0.73697183, 0.73780059, 0.7207792 , 1.14962937]),\n",
       " 'param_classifier__C': masked_array(data=[0.01, 0.1, 1.0, 10.0, 100.0],\n",
       "              mask=[False, False, False, False, False],\n",
       "        fill_value='?',\n",
       "             dtype=object),\n",
       " 'params': [{'classifier__C': 0.01},\n",
       "  {'classifier__C': 0.1},\n",
       "  {'classifier__C': 1.0},\n",
       "  {'classifier__C': 10.0},\n",
       "  {'classifier__C': 100.0}],\n",
       " 'split0_test_acc': array([0.8307783 , 0.87883255, 0.88649764, 0.86438679, 0.84080189]),\n",
       " 'split1_test_acc': array([0.83195755, 0.87382075, 0.88060142, 0.85436321, 0.83372642]),\n",
       " 'split2_test_acc': array([0.83520047, 0.87558962, 0.88502358, 0.8567217 , 0.83402123]),\n",
       " 'split3_test_acc': array([0.83225236, 0.8776533 , 0.88413915, 0.85760613, 0.84522406]),\n",
       " 'split4_test_acc': array([0.83372642, 0.87912736, 0.88354953, 0.86320755, 0.84375   ]),\n",
       " 'split5_test_acc': array([0.8304335 , 0.86906517, 0.87407844, 0.85667945, 0.83161309]),\n",
       " 'split6_test_acc': array([0.83220289, 0.87968151, 0.8808611 , 0.85667945, 0.83633147]),\n",
       " 'split7_test_acc': array([0.82925391, 0.87555293, 0.8814509 , 0.86080802, 0.82836921]),\n",
       " 'split8_test_acc': array([0.83780596, 0.87378354, 0.87879682, 0.86080802, 0.83456208]),\n",
       " 'split9_test_acc': array([0.83161309, 0.86877027, 0.86965497, 0.85048658, 0.82866411]),\n",
       " 'mean_test_acc': array([0.83252244, 0.8751877 , 0.88046536, 0.85817469, 0.83570635]),\n",
       " 'std_test_acc': array([0.00236531, 0.00371326, 0.00491693, 0.00397906, 0.0055668 ]),\n",
       " 'rank_test_acc': array([5, 2, 1, 3, 4], dtype=int32),\n",
       " 'split0_train_acc': array([0.8310782 , 0.89666809, 0.97071061, 0.98689513, 0.98964715]),\n",
       " 'split1_train_acc': array([0.83081611, 0.89601284, 0.97123481, 0.9868296 , 0.98997477]),\n",
       " 'split2_train_acc': array([0.83084887, 0.89598008, 0.97067785, 0.98673132, 0.98967991]),\n",
       " 'split3_train_acc': array([0.83088163, 0.89607837, 0.97218491, 0.98673132, 0.98935229]),\n",
       " 'split4_train_acc': array([0.83052125, 0.89660256, 0.97120204, 0.98633817, 0.98964715]),\n",
       " 'split5_train_acc': array([0.83036299, 0.89696632, 0.97113747, 0.98709212, 0.9905648 ]),\n",
       " 'split6_train_acc': array([0.83049404, 0.89703184, 0.97084262, 0.9870266 , 0.98977853]),\n",
       " 'split7_train_acc': array([0.83078889, 0.89581968, 0.97100642, 0.98689556, 0.9898113 ]),\n",
       " 'split8_train_acc': array([0.83039575, 0.89686804, 0.97149784, 0.9874525 , 0.98990958]),\n",
       " 'split9_train_acc': array([0.83098545, 0.89788363, 0.9721203 , 0.98715765, 0.99020443]),\n",
       " 'mean_train_acc': array([0.83071732, 0.89659115, 0.97126149, 0.986915  , 0.98985699]),\n",
       " 'std_train_acc': array([0.00024053, 0.0006045 , 0.00050501, 0.00028282, 0.00031949]),\n",
       " 'split0_test_mse': array([-0.1692217 , -0.12116745, -0.11350236, -0.13561321, -0.15919811]),\n",
       " 'split1_test_mse': array([-0.16804245, -0.12617925, -0.11939858, -0.14563679, -0.16627358]),\n",
       " 'split2_test_mse': array([-0.16479953, -0.12441038, -0.11497642, -0.1432783 , -0.16597877]),\n",
       " 'split3_test_mse': array([-0.16774764, -0.1223467 , -0.11586085, -0.14239387, -0.15477594]),\n",
       " 'split4_test_mse': array([-0.16627358, -0.12087264, -0.11645047, -0.13679245, -0.15625   ]),\n",
       " 'split5_test_mse': array([-0.1695665 , -0.13093483, -0.12592156, -0.14332055, -0.16838691]),\n",
       " 'split6_test_mse': array([-0.16779711, -0.12031849, -0.1191389 , -0.14332055, -0.16366853]),\n",
       " 'split7_test_mse': array([-0.17074609, -0.12444707, -0.1185491 , -0.13919198, -0.17163079]),\n",
       " 'split8_test_mse': array([-0.16219404, -0.12621646, -0.12120318, -0.13919198, -0.16543792]),\n",
       " 'split9_test_mse': array([-0.16838691, -0.13122973, -0.13034503, -0.14951342, -0.17133589]),\n",
       " 'mean_test_mse': array([-0.16747756, -0.1248123 , -0.11953464, -0.14182531, -0.16429365]),\n",
       " 'std_test_mse': array([0.00236531, 0.00371326, 0.00491693, 0.00397906, 0.0055668 ]),\n",
       " 'rank_test_mse': array([5, 2, 1, 3, 4], dtype=int32),\n",
       " 'split0_train_mse': array([-0.1689218 , -0.10333191, -0.02928939, -0.01310487, -0.01035285]),\n",
       " 'split1_train_mse': array([-0.16918389, -0.10398716, -0.02876519, -0.0131704 , -0.01002523]),\n",
       " 'split2_train_mse': array([-0.16915113, -0.10401992, -0.02932215, -0.01326868, -0.01032009]),\n",
       " 'split3_train_mse': array([-0.16911837, -0.10392163, -0.02781509, -0.01326868, -0.01064771]),\n",
       " 'split4_train_mse': array([-0.16947875, -0.10339744, -0.02879796, -0.01366183, -0.01035285]),\n",
       " 'split5_train_mse': array([-0.16963701, -0.10303368, -0.02886253, -0.01290788, -0.0094352 ]),\n",
       " 'split6_train_mse': array([-0.16950596, -0.10296816, -0.02915738, -0.0129734 , -0.01022147]),\n",
       " 'split7_train_mse': array([-0.16921111, -0.10418032, -0.02899358, -0.01310444, -0.0101887 ]),\n",
       " 'split8_train_mse': array([-0.16960425, -0.10313196, -0.02850216, -0.0125475 , -0.01009042]),\n",
       " 'split9_train_mse': array([-0.16901455, -0.10211637, -0.0278797 , -0.01284235, -0.00979557]),\n",
       " 'mean_train_mse': array([-0.16928268, -0.10340885, -0.02873851, -0.013085  , -0.01014301]),\n",
       " 'std_train_mse': array([0.00024053, 0.0006045 , 0.00050501, 0.00028282, 0.00031949])}"
      ]
     },
     "execution_count": 40,
     "metadata": {},
     "output_type": "execute_result"
    }
   ],
   "source": [
    "random_search_svc.cv_results_"
   ]
  },
  {
   "cell_type": "code",
   "execution_count": null,
   "metadata": {},
   "outputs": [
    {
     "data": {
      "text/plain": [
       "array([-0.16747756, -0.1248123 , -0.11953464, -0.14182531, -0.16429365])"
      ]
     },
     "execution_count": 41,
     "metadata": {},
     "output_type": "execute_result"
    }
   ],
   "source": [
    "random_search_svc.cv_results_['mean_test_mse']"
   ]
  },
  {
   "cell_type": "code",
   "execution_count": null,
   "metadata": {},
   "outputs": [],
   "source": [
    "from sklearn.model_selection import cross_val_score"
   ]
  },
  {
   "cell_type": "code",
   "execution_count": null,
   "metadata": {},
   "outputs": [],
   "source": [
    "#mse = cross_val_score(random_search_svc.best_estimator_,X,y,scoring='accuracy',cv=cv)\n",
    "#mse "
   ]
  },
  {
   "cell_type": "code",
   "execution_count": null,
   "metadata": {},
   "outputs": [
    {
     "data": {
      "text/plain": [
       "array([0.83252244, 0.8751877 , 0.88046536, 0.85817469, 0.83570635])"
      ]
     },
     "execution_count": 44,
     "metadata": {},
     "output_type": "execute_result"
    }
   ],
   "source": [
    "random_search_svc.cv_results_['mean_test_acc']"
   ]
  },
  {
   "cell_type": "code",
   "execution_count": null,
   "metadata": {},
   "outputs": [
    {
     "data": {
      "text/plain": [
       "0.8821795022997995"
      ]
     },
     "execution_count": 45,
     "metadata": {},
     "output_type": "execute_result"
    }
   ],
   "source": [
    "from sklearn.metrics import accuracy_score\n",
    "accuracy_score(y_test,y_test_predictions)"
   ]
  },
  {
   "cell_type": "code",
   "execution_count": null,
   "metadata": {},
   "outputs": [
    {
     "data": {
      "text/plain": [
       "0.9696594427244583"
      ]
     },
     "execution_count": 46,
     "metadata": {},
     "output_type": "execute_result"
    }
   ],
   "source": [
    "accuracy_score(y_train,y_train_predictions)"
   ]
  },
  {
   "cell_type": "code",
   "execution_count": null,
   "metadata": {},
   "outputs": [],
   "source": [
    "train_loss = -random_search_svc.cv_results_['mean_train_mse']\n",
    "test_loss = -random_search_svc.cv_results_['mean_test_mse']"
   ]
  },
  {
   "cell_type": "code",
   "execution_count": null,
   "metadata": {},
   "outputs": [
    {
     "data": {
      "text/plain": [
       "array([1, 2, 3, 4, 5])"
      ]
     },
     "execution_count": 50,
     "metadata": {},
     "output_type": "execute_result"
    }
   ],
   "source": [
    "cross_val = np.arange(5)+1\n",
    "cross_val"
   ]
  },
  {
   "cell_type": "code",
   "execution_count": null,
   "metadata": {},
   "outputs": [
    {
     "data": {
      "image/png": "[encoded data removed]",
      "text/plain": [
       "<Figure size 432x288 with 1 Axes>"
      ]
     },
     "metadata": {
      "needs_background": "light"
     },
     "output_type": "display_data"
    }
   ],
   "source": [
    "plt.plot(cross_val,train_loss,color='r',label='train loss')\n",
    "plt.plot(cross_val,test_loss,color='b',label='test loss')\n",
    "plt.xlabel('FOLDS')\n",
    "plt.ylabel('ERROR')\n",
    "plt.legend()\n",
    "plt.show()"
   ]
  },
  {
   "cell_type": "code",
   "execution_count": null,
   "metadata": {},
   "outputs": [],
   "source": []
  }
 ],
 "metadata": {
  "kernelspec": {
   "display_name": "Python 3.9.10 64-bit",
   "language": "python",
   "name": "python3"
  },
  "language_info": {
   "codemirror_mode": {
    "name": "ipython",
    "version": 3
   },
   "file_extension": ".py",
   "mimetype": "text/x-python",
   "name": "python",
   "nbconvert_exporter": "python",
   "pygments_lexer": "ipython3",
   "version": "3.9.10"
  },
  "orig_nbformat": 4,
  "vscode": {
   "interpreter": {
    "hash": "55e1bd3b0b077e0bc98218d3177b556cf36523ce0b56978437ca49173cd0e5fd"
   }
  }
 },
 "nbformat": 4,
 "nbformat_minor": 2
}
