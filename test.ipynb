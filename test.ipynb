{
 "cells": [
  {
   "cell_type": "code",
   "execution_count": 2,
   "metadata": {},
   "outputs": [],
   "source": [
    "import pandas as pd"
   ]
  },
  {
   "cell_type": "markdown",
   "metadata": {},
   "source": [
    "CREATING INDIVIDUAL DATAFRAMES"
   ]
  },
  {
   "cell_type": "code",
   "execution_count": 36,
   "metadata": {},
   "outputs": [
    {
     "name": "stdout",
     "output_type": "stream",
     "text": [
      "     Unnamed: 0       reviewerName  overall  reviewText  reviewTime  day_diff  \\\n",
      "0             0                NaN      4.0  No issues.  2014-07-23       138   \n",
      "125         125  Alexander Stevens      5.0         NaN  2012-08-21       839   \n",
      "\n",
      "     helpful_yes  helpful_no  total_vote  score_pos_neg_diff  \\\n",
      "0              0           0           0                   0   \n",
      "125            2           1           3                   1   \n",
      "\n",
      "     score_average_rating  wilson_lower_bound  \n",
      "0                0.000000             0.00000  \n",
      "125              0.666667             0.20766  \n"
     ]
    }
   ],
   "source": [
    "amazon_df = pd.read_csv('amazon_reviews.csv')\n",
    "twitter_df = pd.read_csv('Tweets.csv')\n",
    "yelp_df = pd.read_csv('yelp.csv')\n",
    "\n",
    "print(amazon_df[amazon_df.isna().any(axis=1)])"
   ]
  },
  {
   "cell_type": "markdown",
   "metadata": {},
   "source": [
    "PERFORMING DATA LOADING BY CHOOSING ONLY REQUIRED COLUMNS ON DATAFRAME"
   ]
  },
  {
   "cell_type": "code",
   "execution_count": 61,
   "metadata": {},
   "outputs": [],
   "source": [
    "def data_loading(df,features,label):\n",
    "    df_reduced = df[features + label]      # + ----> concatanation \n",
    "    df_reduced = df_reduced.dropna(axis=0,how='any')\n",
    "    X = df_reduced[features]\n",
    "    X.columns = ['review']\n",
    "    y = df_reduced[label]\n",
    "    y.columns = ['analysis']\n",
    "    return X,y"
   ]
  },
  {
   "cell_type": "code",
   "execution_count": 62,
   "metadata": {},
   "outputs": [
    {
     "name": "stdout",
     "output_type": "stream",
     "text": [
      "Passed dimensionality check\n"
     ]
    }
   ],
   "source": [
    "features = ['reviewText']\n",
    "label = ['overall']\n",
    "X1,y1 = data_loading(amazon_df,features,label)\n",
    "\n",
    "if X1.shape[0] == y1.shape[0]:\n",
    "    print(\"Passed dimensionality check\") "
   ]
  },
  {
   "cell_type": "code",
   "execution_count": 63,
   "metadata": {},
   "outputs": [
    {
     "name": "stdout",
     "output_type": "stream",
     "text": [
      "Passed dimensionality check\n"
     ]
    }
   ],
   "source": [
    "features = ['text']\n",
    "label = ['sentiment']\n",
    "X2,y2 = data_loading(twitter_df,features,label)\n",
    "\n",
    "if X2.shape[0] == y2.shape[0]:\n",
    "    print(\"Passed dimensionality check\") "
   ]
  },
  {
   "cell_type": "code",
   "execution_count": 64,
   "metadata": {},
   "outputs": [
    {
     "name": "stdout",
     "output_type": "stream",
     "text": [
      "Passed dimensionality check\n"
     ]
    }
   ],
   "source": [
    "features = ['text']\n",
    "label = ['stars']\n",
    "X3,y3 = data_loading(yelp_df,features,label)\n",
    "\n",
    "if X3.shape[0] == y3.shape[0]:\n",
    "    print(\"Passed dimensionality check\") "
   ]
  },
  {
   "cell_type": "markdown",
   "metadata": {},
   "source": [
    "DEALING WITH LABELS"
   ]
  },
  {
   "cell_type": "code",
   "execution_count": 66,
   "metadata": {},
   "outputs": [
    {
     "data": {
      "text/plain": [
       "array([4., 5., 3., 1., 2.])"
      ]
     },
     "execution_count": 66,
     "metadata": {},
     "output_type": "execute_result"
    }
   ],
   "source": [
    "y1['analysis'].unique()"
   ]
  },
  {
   "cell_type": "code",
   "execution_count": 67,
   "metadata": {},
   "outputs": [],
   "source": [
    "for x in y1['analysis'].unique():\n",
    "    if int(x)<=2:\n",
    "        y1.loc[y1['analysis']==x,'analysis'] = 'negative'\n",
    "    elif int(x)==3:\n",
    "        y1.loc[y1['analysis']==x,'analysis'] = 'neutral'\n",
    "    elif int(x)>=4:\n",
    "        y1.loc[y1['analysis']==x,'analysis'] = 'positive'\n"
   ]
  },
  {
   "cell_type": "code",
   "execution_count": 68,
   "metadata": {},
   "outputs": [
    {
     "data": {
      "text/plain": [
       "array(['neutral', 'negative', 'positive'], dtype=object)"
      ]
     },
     "execution_count": 68,
     "metadata": {},
     "output_type": "execute_result"
    }
   ],
   "source": [
    "y2['analysis'].unique()"
   ]
  },
  {
   "cell_type": "code",
   "execution_count": 69,
   "metadata": {},
   "outputs": [
    {
     "data": {
      "text/plain": [
       "array([5, 4, 2, 3, 1])"
      ]
     },
     "execution_count": 69,
     "metadata": {},
     "output_type": "execute_result"
    }
   ],
   "source": [
    "y3['analysis'].unique()\n"
   ]
  },
  {
   "cell_type": "code",
   "execution_count": 70,
   "metadata": {},
   "outputs": [],
   "source": [
    "for x in y3['analysis'].unique():\n",
    "    if int(x)<=2:\n",
    "        y3.loc[y3['analysis']==x,'analysis'] = 'negative'\n",
    "    elif int(x)==3:\n",
    "        y3.loc[y3['analysis']==x,'analysis'] = 'neutral'\n",
    "    elif int(x)>=4:\n",
    "        y3.loc[y3['analysis']==x,'analysis'] = 'positive'"
   ]
  }
 ],
 "metadata": {
  "kernelspec": {
   "display_name": "Python 3.8.10 64-bit",
   "language": "python",
   "name": "python3"
  },
  "language_info": {
   "codemirror_mode": {
    "name": "ipython",
    "version": 3
   },
   "file_extension": ".py",
   "mimetype": "text/x-python",
   "name": "python",
   "nbconvert_exporter": "python",
   "pygments_lexer": "ipython3",
   "version": "3.8.10"
  },
  "orig_nbformat": 4,
  "vscode": {
   "interpreter": {
    "hash": "916dbcbb3f70747c44a77c7bcd40155683ae19c65e1c03b4aa3499c5328201f1"
   }
  }
 },
 "nbformat": 4,
 "nbformat_minor": 2
}
