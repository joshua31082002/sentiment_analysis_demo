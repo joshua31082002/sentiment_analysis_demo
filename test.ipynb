{
 "cells": [
  {
   "cell_type": "code",
   "execution_count": 1,
   "metadata": {},
   "outputs": [],
   "source": [
    "import pandas as pd"
   ]
  },
  {
   "cell_type": "markdown",
   "metadata": {},
   "source": [
    "**CREATING INDIVIDUAL DATAFRAMES**"
   ]
  },
  {
   "cell_type": "code",
   "execution_count": 2,
   "metadata": {},
   "outputs": [
    {
     "name": "stdout",
     "output_type": "stream",
     "text": [
      "     Unnamed: 0       reviewerName  overall  reviewText  reviewTime  day_diff  \\\n",
      "0             0                NaN      4.0  No issues.  2014-07-23       138   \n",
      "125         125  Alexander Stevens      5.0         NaN  2012-08-21       839   \n",
      "\n",
      "     helpful_yes  helpful_no  total_vote  score_pos_neg_diff  \\\n",
      "0              0           0           0                   0   \n",
      "125            2           1           3                   1   \n",
      "\n",
      "     score_average_rating  wilson_lower_bound  \n",
      "0                0.000000             0.00000  \n",
      "125              0.666667             0.20766  \n"
     ]
    }
   ],
   "source": [
    "amazon_df = pd.read_csv('amazon_reviews.csv')\n",
    "twitter_df = pd.read_csv('Tweets.csv')\n",
    "yelp_df = pd.read_csv('yelp.csv')\n",
    "\n",
    "print(amazon_df[amazon_df.isna().any(axis=1)])"
   ]
  },
  {
   "cell_type": "markdown",
   "metadata": {},
   "source": [
    "**PERFORMING DATA LOADING BY CHOOSING ONLY REQUIRED COLUMNS ON DATAFRAME**"
   ]
  },
  {
   "cell_type": "code",
   "execution_count": 34,
   "metadata": {},
   "outputs": [],
   "source": [
    "def data_loading(df,features,label):\n",
    "    df_reduced = df[features + label]      # + ----> concatanation \n",
    "    df_reduced = df_reduced.dropna(axis=0,how='any')\n",
    "    df_reduced.columns = ['review','analysis']\n",
    "    return df_reduced"
   ]
  },
  {
   "cell_type": "markdown",
   "metadata": {},
   "source": [
    "EXTRACTING FEATURE MATRIX AND LABEL VECTOR FOR AMAZON REVIEWS"
   ]
  },
  {
   "cell_type": "code",
   "execution_count": 35,
   "metadata": {},
   "outputs": [
    {
     "data": {
      "text/html": [
       "<div>\n",
       "<style scoped>\n",
       "    .dataframe tbody tr th:only-of-type {\n",
       "        vertical-align: middle;\n",
       "    }\n",
       "\n",
       "    .dataframe tbody tr th {\n",
       "        vertical-align: top;\n",
       "    }\n",
       "\n",
       "    .dataframe thead th {\n",
       "        text-align: right;\n",
       "    }\n",
       "</style>\n",
       "<table border=\"1\" class=\"dataframe\">\n",
       "  <thead>\n",
       "    <tr style=\"text-align: right;\">\n",
       "      <th></th>\n",
       "      <th>review</th>\n",
       "      <th>analysis</th>\n",
       "    </tr>\n",
       "  </thead>\n",
       "  <tbody>\n",
       "    <tr>\n",
       "      <th>0</th>\n",
       "      <td>No issues.</td>\n",
       "      <td>4.0</td>\n",
       "    </tr>\n",
       "    <tr>\n",
       "      <th>1</th>\n",
       "      <td>Purchased this for my device, it worked as adv...</td>\n",
       "      <td>5.0</td>\n",
       "    </tr>\n",
       "    <tr>\n",
       "      <th>2</th>\n",
       "      <td>it works as expected. I should have sprung for...</td>\n",
       "      <td>4.0</td>\n",
       "    </tr>\n",
       "    <tr>\n",
       "      <th>3</th>\n",
       "      <td>This think has worked out great.Had a diff. br...</td>\n",
       "      <td>5.0</td>\n",
       "    </tr>\n",
       "    <tr>\n",
       "      <th>4</th>\n",
       "      <td>Bought it with Retail Packaging, arrived legit...</td>\n",
       "      <td>5.0</td>\n",
       "    </tr>\n",
       "  </tbody>\n",
       "</table>\n",
       "</div>"
      ],
      "text/plain": [
       "                                              review  analysis\n",
       "0                                         No issues.       4.0\n",
       "1  Purchased this for my device, it worked as adv...       5.0\n",
       "2  it works as expected. I should have sprung for...       4.0\n",
       "3  This think has worked out great.Had a diff. br...       5.0\n",
       "4  Bought it with Retail Packaging, arrived legit...       5.0"
      ]
     },
     "execution_count": 35,
     "metadata": {},
     "output_type": "execute_result"
    }
   ],
   "source": [
    "features = ['reviewText']\n",
    "label = ['overall']\n",
    "amazon_df_reduced = data_loading(amazon_df,features,label)\n",
    "amazon_df_reduced.head()"
   ]
  },
  {
   "cell_type": "markdown",
   "metadata": {},
   "source": [
    "EXTRACTING FEATURE MATRIX AND LABEL VECTOR FOR TWITTER REVIEWS"
   ]
  },
  {
   "cell_type": "code",
   "execution_count": 36,
   "metadata": {},
   "outputs": [],
   "source": [
    "features = ['text']\n",
    "label = ['sentiment']\n",
    "twitter_df_reduced = data_loading(twitter_df,features,label)"
   ]
  },
  {
   "cell_type": "markdown",
   "metadata": {},
   "source": [
    "EXTRACTING FEATURE MATRIX AND LABEL VECTOR FOR YELP REVIEWS"
   ]
  },
  {
   "cell_type": "code",
   "execution_count": 37,
   "metadata": {},
   "outputs": [],
   "source": [
    "features = ['text']\n",
    "label = ['stars']\n",
    "yelp_df_reduced = data_loading(yelp_df,features,label)"
   ]
  },
  {
   "cell_type": "markdown",
   "metadata": {},
   "source": [
    "**DEALING WITH LABELS**"
   ]
  },
  {
   "cell_type": "code",
   "execution_count": 44,
   "metadata": {},
   "outputs": [
    {
     "name": "stdout",
     "output_type": "stream",
     "text": [
      "['positive' 'neutral' 'negative']\n",
      "['neutral' 'negative' 'positive']\n",
      "['positive' 'negative' 'neutral']\n"
     ]
    }
   ],
   "source": [
    "print(amazon_df_reduced['analysis'].unique())\n",
    "print(twitter_df_reduced['analysis'].unique())\n",
    "print(yelp_df_reduced['analysis'].unique())"
   ]
  },
  {
   "cell_type": "markdown",
   "metadata": {},
   "source": [
    "MAPPING LABELS OF AMAZON REVIEW TO ['NEGATIVE','NEUTRAL','POSITIVE]"
   ]
  },
  {
   "cell_type": "code",
   "execution_count": 39,
   "metadata": {},
   "outputs": [],
   "source": [
    "for x in amazon_df_reduced['analysis'].unique():\n",
    "    if int(x)<=2:\n",
    "        amazon_df_reduced.loc[amazon_df_reduced['analysis']==x,'analysis'] = 'negative'\n",
    "    elif int(x)==3:\n",
    "        amazon_df_reduced.loc[amazon_df_reduced['analysis']==x,'analysis'] = 'neutral'\n",
    "    elif int(x)>=4:\n",
    "        amazon_df_reduced.loc[amazon_df_reduced['analysis']==x,'analysis'] = 'positive'\n"
   ]
  },
  {
   "cell_type": "markdown",
   "metadata": {},
   "source": [
    "MAPPING LABELS OF TWITTER REVIEW TO ['NEGATIVE','NEUTRAL','POSITIVE]"
   ]
  },
  {
   "cell_type": "code",
   "execution_count": 41,
   "metadata": {},
   "outputs": [],
   "source": [
    "for x in twitter_df_reduced['analysis'].unique():\n",
    "    if x == 'negative':\n",
    "        twitter_df_reduced.loc[twitter_df_reduced['analysis']==x,'analysis'] = 'negative'\n",
    "    elif x == 'neutral':\n",
    "        twitter_df_reduced.loc[twitter_df_reduced['analysis']==x,'analysis'] = 'neutral'\n",
    "    elif x == 'positive':\n",
    "        twitter_df_reduced.loc[twitter_df_reduced['analysis']==x,'analysis'] = 'positive'\n"
   ]
  },
  {
   "cell_type": "markdown",
   "metadata": {},
   "source": [
    "MAPPING LABELS OF AMAZON YELP TO ['NEGATIVE','NEUTRAL','POSITIVE]"
   ]
  },
  {
   "cell_type": "code",
   "execution_count": 43,
   "metadata": {},
   "outputs": [],
   "source": [
    "for x in yelp_df_reduced['analysis'].unique():\n",
    "    if int(x)<=2:\n",
    "        yelp_df_reduced.loc[yelp_df_reduced['analysis']==x,'analysis'] = 'negative'\n",
    "    elif int(x)==3:\n",
    "        yelp_df_reduced.loc[yelp_df_reduced['analysis']==x,'analysis'] = 'neutral'\n",
    "    elif int(x)>=4:\n",
    "        yelp_df_reduced.loc[yelp_df_reduced['analysis']==x,'analysis'] = 'positive'"
   ]
  },
  {
   "cell_type": "markdown",
   "metadata": {},
   "source": [
    "**AGGREGATING FEATURE MATRIX AND LABEL**"
   ]
  },
  {
   "cell_type": "code",
   "execution_count": 55,
   "metadata": {},
   "outputs": [
    {
     "name": "stdout",
     "output_type": "stream",
     "text": [
      "Number of classes : 3\n",
      "\n",
      "True\n",
      "\n",
      "review      0\n",
      "analysis    0\n",
      "dtype: int64\n"
     ]
    }
   ],
   "source": [
    "df = pd.concat([amazon_df_reduced,twitter_df_reduced,yelp_df_reduced],axis=0)\n",
    "\n",
    "print(\"Number of classes :\",len(df['analysis'].unique()))\n",
    "print()\n",
    "print(df.shape[0] == amazon_df_reduced.shape[0]+twitter_df_reduced.shape[0]+yelp_df_reduced.shape[0])\n",
    "print()\n",
    "print(df.isna().sum())"
   ]
  }
 ],
 "metadata": {
  "kernelspec": {
   "display_name": "Python 3.8.10 64-bit",
   "language": "python",
   "name": "python3"
  },
  "language_info": {
   "codemirror_mode": {
    "name": "ipython",
    "version": 3
   },
   "file_extension": ".py",
   "mimetype": "text/x-python",
   "name": "python",
   "nbconvert_exporter": "python",
   "pygments_lexer": "ipython3",
   "version": "3.8.10"
  },
  "orig_nbformat": 4,
  "vscode": {
   "interpreter": {
    "hash": "916dbcbb3f70747c44a77c7bcd40155683ae19c65e1c03b4aa3499c5328201f1"
   }
  }
 },
 "nbformat": 4,
 "nbformat_minor": 2
}
