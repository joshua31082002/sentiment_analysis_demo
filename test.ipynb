{
 "cells": [
  {
   "cell_type": "code",
   "execution_count": 119,
   "metadata": {},
   "outputs": [],
   "source": [
    "import pandas as pd"
   ]
  },
  {
   "cell_type": "markdown",
   "metadata": {},
   "source": [
    "**CREATING INDIVIDUAL DATAFRAMES**"
   ]
  },
  {
   "cell_type": "code",
   "execution_count": 120,
   "metadata": {},
   "outputs": [],
   "source": [
    "amazon_df = pd.read_csv('amazon_reviews.csv')\n",
    "twitter_df = pd.read_csv('Tweets.csv')\n",
    "yelp_df = pd.read_csv('yelp.csv')"
   ]
  },
  {
   "cell_type": "code",
   "execution_count": 121,
   "metadata": {},
   "outputs": [
    {
     "name": "stdout",
     "output_type": "stream",
     "text": [
      "--------------------------AMAZON---------------------\n",
      "Index(['Unnamed: 0', 'reviewerName', 'overall', 'reviewText', 'reviewTime',\n",
      "       'day_diff', 'helpful_yes', 'helpful_no', 'total_vote',\n",
      "       'score_pos_neg_diff', 'score_average_rating', 'wilson_lower_bound'],\n",
      "      dtype='object')\n",
      "\n",
      "--------------------------TWITTER---------------------\n",
      "Index(['textID', 'text', 'selected_text', 'sentiment'], dtype='object')\n",
      "\n",
      "--------------------------YELP---------------------\n",
      "Index(['business_id', 'date', 'review_id', 'stars', 'text', 'type', 'user_id',\n",
      "       'cool', 'useful', 'funny'],\n",
      "      dtype='object')\n"
     ]
    }
   ],
   "source": [
    "print(\"--------------------------AMAZON---------------------\")\n",
    "print(amazon_df.columns)\n",
    "print(\"\\n--------------------------TWITTER---------------------\")\n",
    "print(twitter_df.columns)\n",
    "print(\"\\n--------------------------YELP---------------------\")\n",
    "print(yelp_df.columns)"
   ]
  },
  {
   "cell_type": "markdown",
   "metadata": {},
   "source": [
    "**PERFORMING DATA LOADING BY CHOOSING ONLY REQUIRED COLUMNS ON DATAFRAME**"
   ]
  },
  {
   "cell_type": "code",
   "execution_count": 122,
   "metadata": {},
   "outputs": [],
   "source": [
    "def data_loading(df,features,label):\n",
    "    df_reduced = df[features + label]      # + ----> concatanation \n",
    "    df_reduced = df_reduced.dropna(axis=0,how='any') #removing rows having nan\n",
    "    df_reduced.columns = ['review','analysis']\n",
    "    return df_reduced"
   ]
  },
  {
   "cell_type": "markdown",
   "metadata": {},
   "source": [
    "EXTRACTING REQUIRED COLUMNS FOR AMAZON REVIEWS"
   ]
  },
  {
   "cell_type": "code",
   "execution_count": 123,
   "metadata": {},
   "outputs": [
    {
     "data": {
      "text/html": [
       "<div>\n",
       "<style scoped>\n",
       "    .dataframe tbody tr th:only-of-type {\n",
       "        vertical-align: middle;\n",
       "    }\n",
       "\n",
       "    .dataframe tbody tr th {\n",
       "        vertical-align: top;\n",
       "    }\n",
       "\n",
       "    .dataframe thead th {\n",
       "        text-align: right;\n",
       "    }\n",
       "</style>\n",
       "<table border=\"1\" class=\"dataframe\">\n",
       "  <thead>\n",
       "    <tr style=\"text-align: right;\">\n",
       "      <th></th>\n",
       "      <th>review</th>\n",
       "      <th>analysis</th>\n",
       "    </tr>\n",
       "  </thead>\n",
       "  <tbody>\n",
       "    <tr>\n",
       "      <th>0</th>\n",
       "      <td>No issues.</td>\n",
       "      <td>4.0</td>\n",
       "    </tr>\n",
       "    <tr>\n",
       "      <th>1</th>\n",
       "      <td>Purchased this for my device, it worked as adv...</td>\n",
       "      <td>5.0</td>\n",
       "    </tr>\n",
       "    <tr>\n",
       "      <th>2</th>\n",
       "      <td>it works as expected. I should have sprung for...</td>\n",
       "      <td>4.0</td>\n",
       "    </tr>\n",
       "    <tr>\n",
       "      <th>3</th>\n",
       "      <td>This think has worked out great.Had a diff. br...</td>\n",
       "      <td>5.0</td>\n",
       "    </tr>\n",
       "    <tr>\n",
       "      <th>4</th>\n",
       "      <td>Bought it with Retail Packaging, arrived legit...</td>\n",
       "      <td>5.0</td>\n",
       "    </tr>\n",
       "  </tbody>\n",
       "</table>\n",
       "</div>"
      ],
      "text/plain": [
       "                                              review  analysis\n",
       "0                                         No issues.       4.0\n",
       "1  Purchased this for my device, it worked as adv...       5.0\n",
       "2  it works as expected. I should have sprung for...       4.0\n",
       "3  This think has worked out great.Had a diff. br...       5.0\n",
       "4  Bought it with Retail Packaging, arrived legit...       5.0"
      ]
     },
     "execution_count": 123,
     "metadata": {},
     "output_type": "execute_result"
    }
   ],
   "source": [
    "features = ['reviewText']\n",
    "label = ['overall']\n",
    "amazon_df_reduced = data_loading(amazon_df,features,label)\n",
    "amazon_df_reduced.head()"
   ]
  },
  {
   "cell_type": "markdown",
   "metadata": {},
   "source": [
    "EXTRACTING REQUIRED COLUMNS FOR TWITTER REVIEWS"
   ]
  },
  {
   "cell_type": "code",
   "execution_count": 124,
   "metadata": {},
   "outputs": [
    {
     "data": {
      "text/html": [
       "<div>\n",
       "<style scoped>\n",
       "    .dataframe tbody tr th:only-of-type {\n",
       "        vertical-align: middle;\n",
       "    }\n",
       "\n",
       "    .dataframe tbody tr th {\n",
       "        vertical-align: top;\n",
       "    }\n",
       "\n",
       "    .dataframe thead th {\n",
       "        text-align: right;\n",
       "    }\n",
       "</style>\n",
       "<table border=\"1\" class=\"dataframe\">\n",
       "  <thead>\n",
       "    <tr style=\"text-align: right;\">\n",
       "      <th></th>\n",
       "      <th>review</th>\n",
       "      <th>analysis</th>\n",
       "    </tr>\n",
       "  </thead>\n",
       "  <tbody>\n",
       "    <tr>\n",
       "      <th>0</th>\n",
       "      <td>I`d have responded, if I were going</td>\n",
       "      <td>neutral</td>\n",
       "    </tr>\n",
       "    <tr>\n",
       "      <th>1</th>\n",
       "      <td>Sooo SAD I will miss you here in San Diego!!!</td>\n",
       "      <td>negative</td>\n",
       "    </tr>\n",
       "    <tr>\n",
       "      <th>2</th>\n",
       "      <td>my boss is bullying me...</td>\n",
       "      <td>negative</td>\n",
       "    </tr>\n",
       "    <tr>\n",
       "      <th>3</th>\n",
       "      <td>what interview! leave me alone</td>\n",
       "      <td>negative</td>\n",
       "    </tr>\n",
       "    <tr>\n",
       "      <th>4</th>\n",
       "      <td>Sons of ****, why couldn`t they put them on t...</td>\n",
       "      <td>negative</td>\n",
       "    </tr>\n",
       "  </tbody>\n",
       "</table>\n",
       "</div>"
      ],
      "text/plain": [
       "                                              review  analysis\n",
       "0                I`d have responded, if I were going   neutral\n",
       "1      Sooo SAD I will miss you here in San Diego!!!  negative\n",
       "2                          my boss is bullying me...  negative\n",
       "3                     what interview! leave me alone  negative\n",
       "4   Sons of ****, why couldn`t they put them on t...  negative"
      ]
     },
     "execution_count": 124,
     "metadata": {},
     "output_type": "execute_result"
    }
   ],
   "source": [
    "features = ['text']\n",
    "label = ['sentiment']\n",
    "twitter_df_reduced = data_loading(twitter_df,features,label)\n",
    "twitter_df_reduced.head()"
   ]
  },
  {
   "cell_type": "markdown",
   "metadata": {},
   "source": [
    "EXTRACTING REQUIRED COLUMNS FOR YELP REVIEWS"
   ]
  },
  {
   "cell_type": "code",
   "execution_count": 125,
   "metadata": {},
   "outputs": [],
   "source": [
    "features = ['text']\n",
    "label = ['stars']\n",
    "yelp_df_reduced = data_loading(yelp_df,features,label)"
   ]
  },
  {
   "cell_type": "markdown",
   "metadata": {},
   "source": [
    "**DEALING WITH LABELS**"
   ]
  },
  {
   "cell_type": "code",
   "execution_count": 126,
   "metadata": {},
   "outputs": [
    {
     "name": "stdout",
     "output_type": "stream",
     "text": [
      "[4. 5. 3. 1. 2.]\n",
      "['neutral' 'negative' 'positive']\n",
      "[5 4 2 3 1]\n"
     ]
    }
   ],
   "source": [
    "print(amazon_df_reduced['analysis'].unique())\n",
    "print(twitter_df_reduced['analysis'].unique())\n",
    "print(yelp_df_reduced['analysis'].unique())"
   ]
  },
  {
   "cell_type": "markdown",
   "metadata": {},
   "source": [
    "MAPPING LABELS OF AMAZON REVIEW TO ['NEGATIVE','NEUTRAL','POSITIVE]"
   ]
  },
  {
   "cell_type": "code",
   "execution_count": 127,
   "metadata": {},
   "outputs": [],
   "source": [
    "for x in amazon_df_reduced['analysis'].unique():\n",
    "    if int(x)<=2:\n",
    "        amazon_df_reduced.loc[amazon_df_reduced['analysis']==x,'analysis'] = 'negative'\n",
    "    elif int(x)==3:\n",
    "        amazon_df_reduced.loc[amazon_df_reduced['analysis']==x,'analysis'] = 'neutral'\n",
    "    elif int(x)>=4:\n",
    "        amazon_df_reduced.loc[amazon_df_reduced['analysis']==x,'analysis'] = 'positive'\n"
   ]
  },
  {
   "cell_type": "markdown",
   "metadata": {},
   "source": [
    "MAPPING LABELS OF TWITTER REVIEW TO ['NEGATIVE','NEUTRAL','POSITIVE]"
   ]
  },
  {
   "cell_type": "code",
   "execution_count": 128,
   "metadata": {},
   "outputs": [],
   "source": [
    "for x in twitter_df_reduced['analysis'].unique():\n",
    "    if x == 'negative':\n",
    "        twitter_df_reduced.loc[twitter_df_reduced['analysis']==x,'analysis'] = 'negative'\n",
    "    elif x == 'neutral':\n",
    "        twitter_df_reduced.loc[twitter_df_reduced['analysis']==x,'analysis'] = 'neutral'\n",
    "    elif x == 'positive':\n",
    "        twitter_df_reduced.loc[twitter_df_reduced['analysis']==x,'analysis'] = 'positive'\n"
   ]
  },
  {
   "cell_type": "markdown",
   "metadata": {},
   "source": [
    "MAPPING LABELS OF AMAZON YELP TO ['NEGATIVE','NEUTRAL','POSITIVE]"
   ]
  },
  {
   "cell_type": "code",
   "execution_count": 129,
   "metadata": {},
   "outputs": [],
   "source": [
    "for x in yelp_df_reduced['analysis'].unique():\n",
    "    if int(x)<=2:\n",
    "        yelp_df_reduced.loc[yelp_df_reduced['analysis']==x,'analysis'] = 'negative'\n",
    "    elif int(x)==3:\n",
    "        yelp_df_reduced.loc[yelp_df_reduced['analysis']==x,'analysis'] = 'neutral'\n",
    "    elif int(x)>=4:\n",
    "        yelp_df_reduced.loc[yelp_df_reduced['analysis']==x,'analysis'] = 'positive'"
   ]
  },
  {
   "cell_type": "markdown",
   "metadata": {},
   "source": [
    "**AGGREGATING DATAFRAMES**"
   ]
  },
  {
   "cell_type": "code",
   "execution_count": 130,
   "metadata": {},
   "outputs": [
    {
     "name": "stdout",
     "output_type": "stream",
     "text": [
      "Number of classes : 3\n",
      "\n",
      "True\n",
      "\n",
      "review      0\n",
      "analysis    0\n",
      "dtype: int64\n"
     ]
    }
   ],
   "source": [
    "df = pd.concat([amazon_df_reduced,twitter_df_reduced,yelp_df_reduced],axis=0,names=['review','analysis'])\n",
    "\n",
    "print(\"Number of classes :\",len(df['analysis'].unique()))\n",
    "print()\n",
    "print(df.shape[0] == amazon_df_reduced.shape[0]+twitter_df_reduced.shape[0]+yelp_df_reduced.shape[0])\n",
    "print()\n",
    "print(df.isna().sum())"
   ]
  },
  {
   "cell_type": "code",
   "execution_count": 131,
   "metadata": {},
   "outputs": [
    {
     "data": {
      "text/plain": [
       "True"
      ]
     },
     "execution_count": 131,
     "metadata": {},
     "output_type": "execute_result"
    }
   ],
   "source": [
    "X = df['review'].to_frame()\n",
    "y = df['analysis'].to_frame()\n",
    "X.shape[0] == y.shape[0]"
   ]
  }
 ],
 "metadata": {
  "kernelspec": {
   "display_name": "Python 3.8.10 64-bit",
   "language": "python",
   "name": "python3"
  },
  "language_info": {
   "codemirror_mode": {
    "name": "ipython",
    "version": 3
   },
   "file_extension": ".py",
   "mimetype": "text/x-python",
   "name": "python",
   "nbconvert_exporter": "python",
   "pygments_lexer": "ipython3",
   "version": "3.8.10"
  },
  "orig_nbformat": 4,
  "vscode": {
   "interpreter": {
    "hash": "916dbcbb3f70747c44a77c7bcd40155683ae19c65e1c03b4aa3499c5328201f1"
   }
  }
 },
 "nbformat": 4,
 "nbformat_minor": 2
}
